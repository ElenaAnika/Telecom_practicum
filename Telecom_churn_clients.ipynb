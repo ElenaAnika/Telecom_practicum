{
 "cells": [
  {
   "cell_type": "markdown",
   "id": "bc1cde14",
   "metadata": {
    "toc": true
   },
   "source": [
    "<h1>Table of Contents<span class=\"tocSkip\"></span></h1>\n",
    "<div class=\"toc\"><ul class=\"toc-item\"><li><span><a href=\"#Описание-и-цель-проекта\" data-toc-modified-id=\"Описание-и-цель-проекта-1\"><span class=\"toc-item-num\">1&nbsp;&nbsp;</span>Описание и цель проекта</a></span><ul class=\"toc-item\"><li><span><a href=\"#Описание-услуг\" data-toc-modified-id=\"Описание-услуг-1.1\"><span class=\"toc-item-num\">1.1&nbsp;&nbsp;</span>Описание услуг</a></span></li><li><span><a href=\"#Описание-данных\" data-toc-modified-id=\"Описание-данных-1.2\"><span class=\"toc-item-num\">1.2&nbsp;&nbsp;</span>Описание данных</a></span></li><li><span><a href=\"#Данные\" data-toc-modified-id=\"Данные-1.3\"><span class=\"toc-item-num\">1.3&nbsp;&nbsp;</span>Данные</a></span></li><li><span><a href=\"#Цель-проекта\" data-toc-modified-id=\"Цель-проекта-1.4\"><span class=\"toc-item-num\">1.4&nbsp;&nbsp;</span>Цель проекта</a></span></li></ul></li><li><span><a href=\"#Загрузка,-очистка-данных,-анализ:\" data-toc-modified-id=\"Загрузка,-очистка-данных,-анализ:-2\"><span class=\"toc-item-num\">2&nbsp;&nbsp;</span>Загрузка, очистка данных, анализ:</a></span><ul class=\"toc-item\"><li><span><a href=\"#Загрузка-и-первичный-анализ-данных\" data-toc-modified-id=\"Загрузка-и-первичный-анализ-данных-2.1\"><span class=\"toc-item-num\">2.1&nbsp;&nbsp;</span>Загрузка и первичный анализ данных</a></span></li><li><span><a href=\"#Объединение-таблиц-и-генерация/выделение-ключевых-признаков\" data-toc-modified-id=\"Объединение-таблиц-и-генерация/выделение-ключевых-признаков-2.2\"><span class=\"toc-item-num\">2.2&nbsp;&nbsp;</span>Объединение таблиц и генерация/выделение ключевых признаков</a></span></li><li><span><a href=\"#Ручной-анализ-признаков.-Выявление-первичных-закономерностей-по-ушедшим-клиентам\" data-toc-modified-id=\"Ручной-анализ-признаков.-Выявление-первичных-закономерностей-по-ушедшим-клиентам-2.3\"><span class=\"toc-item-num\">2.3&nbsp;&nbsp;</span>Ручной анализ признаков. Выявление первичных закономерностей по ушедшим клиентам</a></span></li><li><span><a href=\"#Выделение-тестовой-выборки-(25%)\" data-toc-modified-id=\"Выделение-тестовой-выборки-(25%)-2.4\"><span class=\"toc-item-num\">2.4&nbsp;&nbsp;</span>Выделение тестовой выборки (25%)</a></span></li><li><span><a href=\"#Выделение-финального-набор-признаков-для-обучения-модели,-кодирование-и-масштабирование-признаков-под-разные-типы-моделей.\" data-toc-modified-id=\"Выделение-финального-набор-признаков-для-обучения-модели,-кодирование-и-масштабирование-признаков-под-разные-типы-моделей.-2.5\"><span class=\"toc-item-num\">2.5&nbsp;&nbsp;</span>Выделение финального набор признаков для обучения модели, кодирование и масштабирование признаков под разные типы моделей.</a></span></li></ul></li><li><span><a href=\"#Обучение-разных-типов-моделей,-выбор-итоговой-модели.\" data-toc-modified-id=\"Обучение-разных-типов-моделей,-выбор-итоговой-модели.-3\"><span class=\"toc-item-num\">3&nbsp;&nbsp;</span>Обучение разных типов моделей, выбор итоговой модели.</a></span><ul class=\"toc-item\"><li><span><a href=\"#Обучение-логистической-регрессии-и-случайного-леса\" data-toc-modified-id=\"Обучение-логистической-регрессии-и-случайного-леса-3.1\"><span class=\"toc-item-num\">3.1&nbsp;&nbsp;</span>Обучение логистической регрессии и случайного леса</a></span></li><li><span><a href=\"#Тестирование-моделей-градиентного-бустинга\" data-toc-modified-id=\"Тестирование-моделей-градиентного-бустинга-3.2\"><span class=\"toc-item-num\">3.2&nbsp;&nbsp;</span>Тестирование моделей градиентного бустинга</a></span></li><li><span><a href=\"#Сравнение-результатов-с-dummy-моделью-и-выбор-модели\" data-toc-modified-id=\"Сравнение-результатов-с-dummy-моделью-и-выбор-модели-3.3\"><span class=\"toc-item-num\">3.3&nbsp;&nbsp;</span>Сравнение результатов с dummy-моделью и выбор модели</a></span></li></ul></li><li><span><a href=\"#Валидация-модели-на-тестовой-выборке\" data-toc-modified-id=\"Валидация-модели-на-тестовой-выборке-4\"><span class=\"toc-item-num\">4&nbsp;&nbsp;</span>Валидация модели на тестовой выборке</a></span></li><li><span><a href=\"#Потенциальный-экономический-эффект-от-внедрения-модели\" data-toc-modified-id=\"Потенциальный-экономический-эффект-от-внедрения-модели-5\"><span class=\"toc-item-num\">5&nbsp;&nbsp;</span>Потенциальный экономический эффект от внедрения модели</a></span></li><li><span><a href=\"#Выводы.\" data-toc-modified-id=\"Выводы.-6\"><span class=\"toc-item-num\">6&nbsp;&nbsp;</span>Выводы.</a></span></li><li><span><a href=\"#Использованные-параметры.\" data-toc-modified-id=\"Использованные-параметры.-7\"><span class=\"toc-item-num\">7&nbsp;&nbsp;</span>Использованные параметры.</a></span></li></ul></div>"
   ]
  },
  {
   "cell_type": "markdown",
   "id": "feb1e3f7",
   "metadata": {},
   "source": [
    "# Прогнозирование оттока клиентов провайдера\n",
    "\n",
    "Оператор связи «Ниединогоразрыва.ком» хочет научиться прогнозировать отток клиентов. Если выяснится, что пользователь планирует уйти, ему будут предложены промокоды и специальные условия. Команда оператора собрала персональные данные о некоторых клиентах, информацию об их тарифах и договорах.\n",
    "\n",
    "***План выполнения проекта***\\\n",
    "**1  Описание и цель проекта**\\\n",
    "1.1  Описание услуг\\\n",
    "1.2  Описание данных\\\n",
    "    1.3  Данные\\\n",
    "    1.4  Цель проекта:\\\n",
    "**2  Загрузка, очистка данных, анализ:**\\\n",
    "2.1  Загрузка и первичный анализ данных\\\n",
    "2.2  Объединение таблиц и генерация/выделение ключевых признаков\\\n",
    "2.3  Выявление первичных закономерностей по ушедшим клиентам\\\n",
    "2.4  Выделение тестовой выборки (25%)\\\n",
    "2.5  Выделение финального набор признаков для обучения модели, кодирование и масштабирование признаков под разные типы моделей.\\\n",
    "**3  Обучение разных типов моделей, выбор итоговой модели.**\\\n",
    "**4  Валидация модели на тестовой выборке**\\\n",
    "**5  Выводы.**\n",
    "\n",
    "\n",
    "## Описание и цель проекта \n",
    "### Описание услуг\n",
    "\n",
    "Оператор предоставляет два основных типа услуг: \n",
    "\n",
    "1. Стационарную телефонную связь. Возможно подключение телефонного аппарата к нескольким линиям одновременно.\n",
    "2. Интернет. Подключение может быть двух типов: через телефонную линию (DSL*,* от англ. *digital subscriber line*, «цифровая абонентская линия») или оптоволоконный кабель (*Fiber optic*).  \n",
    "\n",
    "Также доступны такие услуги:\n",
    "\n",
    "- Интернет-безопасность: антивирус (*DeviceProtection*) и блокировка небезопасных сайтов (*OnlineSecurity*);\n",
    "- Выделенная линия технической поддержки (*TechSupport*);\n",
    "- Облачное хранилище файлов для резервного копирования данных (*OnlineBackup*);\n",
    "- Стриминговое телевидение (*StreamingTV*) и каталог фильмов (*StreamingMovies*).\n",
    "\n",
    "За услуги клиенты могут платить каждый месяц или заключить договор на 1–2 года. Доступны различные способы расчёта и возможность получения электронного чека.\n",
    "\n",
    "### Описание данных\n",
    "\n",
    "Данные состоят из файлов, полученных из разных источников:\n",
    "\n",
    "- `contract.csv` — информация о договоре;\n",
    "- `personal.csv` — персональные данные клиента;\n",
    "- `internet.csv` — информация об интернет-услугах;\n",
    "- `phone.csv` — информация об услугах телефонии.\n",
    "\n",
    "Во всех файлах столбец `customerID` содержит код клиента.\n",
    "\n",
    "Информация о договорах актуальна на 1 февраля 2020.\n",
    "\n",
    "### Данные\n",
    "\n",
    "[final_provider.zip](https://s3-us-west-2.amazonaws.com/secure.notion-static.com/ac39c23b-718e-4cd6-bdaa-85b3a127a457/final_provider.zip)\n",
    "\n",
    "Данные также находятся в тренажёре, в папке `/datasets/final_provider/`.\n",
    "\n",
    "### Цель проекта\n",
    "\n",
    "Максимизируем AUC-ROC, целевой показатель - 0,85.\n",
    "Метрика выбрана, исходя из бизнес-задачи: минимизировать возможные убытки от ухода. Это можно достигнуть при следующем условии: сбалансировать ошибку по некорректному определению тех, кто ушел (False Positive) и тех, кто реально ушел, но мы их не предсказали (False Negative). Клиенты, неправильно размеченные как готовые уйти, \"незаслуженно\" получат скидку, а клиенты, которых мы не разметили, как готовых разорвать контракт, уйдут и компания долгосрочно потеряет клиента.\n",
    "\n",
    "Дополнительно рассчитаем accuracy модели."
   ]
  },
  {
   "cell_type": "markdown",
   "id": "8bf7a742",
   "metadata": {},
   "source": [
    "## Загрузка, очистка данных, анализ:\n",
    "### Загрузка и первичный анализ данных\n",
    "*Проверим на наличие пропусков, узнаем типы данных, распределение признаков, наличие дисбаланса классов и пр.*"
   ]
  },
  {
   "cell_type": "code",
   "execution_count": 1,
   "id": "1e09487b",
   "metadata": {},
   "outputs": [],
   "source": [
    "import datetime\n",
    "import joblib\n",
    "import lightgbm as lgb\n",
    "import matplotlib.pyplot as plt\n",
    "import numpy as np\n",
    "import pandas as pd\n",
    "import pickle\n",
    "import sklearn\n",
    "import scipy.sparse\n",
    "import seaborn as sns\n",
    "import warnings\n",
    "\n",
    "from catboost import CatBoostClassifier\n",
    "\n",
    "from imblearn.pipeline import make_pipeline as make_pipeline_imb\n",
    "\n",
    "from joblib import Parallel, delayed\n",
    "\n",
    "from sklearn.compose import make_column_transformer\n",
    "from sklearn.compose import ColumnTransformer\n",
    "from sklearn.dummy import DummyClassifier\n",
    "from sklearn.ensemble import RandomForestClassifier\n",
    "from sklearn.linear_model import LogisticRegression\n",
    "from sklearn.model_selection import (GridSearchCV, train_test_split)\n",
    "from sklearn.metrics import roc_auc_score,roc_curve,classification_report,confusion_matrix,ConfusionMatrixDisplay\n",
    "from sklearn.preprocessing import OneHotEncoder\n",
    "from sklearn.utils import shuffle"
   ]
  },
  {
   "cell_type": "code",
   "execution_count": 2,
   "id": "6888eebc",
   "metadata": {},
   "outputs": [],
   "source": [
    "pth0 = 'https://raw.githubusercontent.com/ElenaAnika/Telecom_practicum/main/contract.csv'\n",
    "pth1 = 'https://raw.githubusercontent.com/ElenaAnika/Telecom_practicum/main/internet.csv'\n",
    "pth2 = 'https://raw.githubusercontent.com/ElenaAnika/Telecom_practicum/main/personal.csv'\n",
    "pth3 = 'https://raw.githubusercontent.com/ElenaAnika/Telecom_practicum/main/phone.csv'\n",
    "\n",
    "try:\n",
    "    contract = pd.read_csv(pth0)\n",
    "    internet = pd.read_csv(pth1)\n",
    "    personal = pd.read_csv(pth2)\n",
    "    phone = pd.read_csv(pth3)\n",
    "except:\n",
    "    print(\"Проверьте правильность пути к датасету\")"
   ]
  },
  {
   "cell_type": "code",
   "execution_count": 3,
   "id": "b5fd8b4f",
   "metadata": {},
   "outputs": [
    {
     "data": {
      "text/html": [
       "<div>\n",
       "<style scoped>\n",
       "    .dataframe tbody tr th:only-of-type {\n",
       "        vertical-align: middle;\n",
       "    }\n",
       "\n",
       "    .dataframe tbody tr th {\n",
       "        vertical-align: top;\n",
       "    }\n",
       "\n",
       "    .dataframe thead th {\n",
       "        text-align: right;\n",
       "    }\n",
       "</style>\n",
       "<table border=\"1\" class=\"dataframe\">\n",
       "  <thead>\n",
       "    <tr style=\"text-align: right;\">\n",
       "      <th></th>\n",
       "      <th>customerID</th>\n",
       "      <th>BeginDate</th>\n",
       "      <th>EndDate</th>\n",
       "      <th>Type</th>\n",
       "      <th>PaperlessBilling</th>\n",
       "      <th>PaymentMethod</th>\n",
       "      <th>MonthlyCharges</th>\n",
       "      <th>TotalCharges</th>\n",
       "    </tr>\n",
       "  </thead>\n",
       "  <tbody>\n",
       "    <tr>\n",
       "      <th>0</th>\n",
       "      <td>7590-VHVEG</td>\n",
       "      <td>2020-01-01</td>\n",
       "      <td>No</td>\n",
       "      <td>Month-to-month</td>\n",
       "      <td>Yes</td>\n",
       "      <td>Electronic check</td>\n",
       "      <td>29.85</td>\n",
       "      <td>29.85</td>\n",
       "    </tr>\n",
       "    <tr>\n",
       "      <th>1</th>\n",
       "      <td>5575-GNVDE</td>\n",
       "      <td>2017-04-01</td>\n",
       "      <td>No</td>\n",
       "      <td>One year</td>\n",
       "      <td>No</td>\n",
       "      <td>Mailed check</td>\n",
       "      <td>56.95</td>\n",
       "      <td>1889.5</td>\n",
       "    </tr>\n",
       "    <tr>\n",
       "      <th>2</th>\n",
       "      <td>3668-QPYBK</td>\n",
       "      <td>2019-10-01</td>\n",
       "      <td>2019-12-01 00:00:00</td>\n",
       "      <td>Month-to-month</td>\n",
       "      <td>Yes</td>\n",
       "      <td>Mailed check</td>\n",
       "      <td>53.85</td>\n",
       "      <td>108.15</td>\n",
       "    </tr>\n",
       "    <tr>\n",
       "      <th>3</th>\n",
       "      <td>7795-CFOCW</td>\n",
       "      <td>2016-05-01</td>\n",
       "      <td>No</td>\n",
       "      <td>One year</td>\n",
       "      <td>No</td>\n",
       "      <td>Bank transfer (automatic)</td>\n",
       "      <td>42.30</td>\n",
       "      <td>1840.75</td>\n",
       "    </tr>\n",
       "    <tr>\n",
       "      <th>4</th>\n",
       "      <td>9237-HQITU</td>\n",
       "      <td>2019-09-01</td>\n",
       "      <td>2019-11-01 00:00:00</td>\n",
       "      <td>Month-to-month</td>\n",
       "      <td>Yes</td>\n",
       "      <td>Electronic check</td>\n",
       "      <td>70.70</td>\n",
       "      <td>151.65</td>\n",
       "    </tr>\n",
       "  </tbody>\n",
       "</table>\n",
       "</div>"
      ],
      "text/plain": [
       "   customerID   BeginDate              EndDate            Type  \\\n",
       "0  7590-VHVEG  2020-01-01                   No  Month-to-month   \n",
       "1  5575-GNVDE  2017-04-01                   No        One year   \n",
       "2  3668-QPYBK  2019-10-01  2019-12-01 00:00:00  Month-to-month   \n",
       "3  7795-CFOCW  2016-05-01                   No        One year   \n",
       "4  9237-HQITU  2019-09-01  2019-11-01 00:00:00  Month-to-month   \n",
       "\n",
       "  PaperlessBilling              PaymentMethod  MonthlyCharges TotalCharges  \n",
       "0              Yes           Electronic check           29.85        29.85  \n",
       "1               No               Mailed check           56.95       1889.5  \n",
       "2              Yes               Mailed check           53.85       108.15  \n",
       "3               No  Bank transfer (automatic)           42.30      1840.75  \n",
       "4              Yes           Electronic check           70.70       151.65  "
      ]
     },
     "execution_count": 3,
     "metadata": {},
     "output_type": "execute_result"
    }
   ],
   "source": [
    "contract.head()"
   ]
  },
  {
   "cell_type": "code",
   "execution_count": 4,
   "id": "6b27b545",
   "metadata": {},
   "outputs": [
    {
     "name": "stdout",
     "output_type": "stream",
     "text": [
      "<class 'pandas.core.frame.DataFrame'>\n",
      "RangeIndex: 7043 entries, 0 to 7042\n",
      "Data columns (total 8 columns):\n",
      " #   Column            Non-Null Count  Dtype  \n",
      "---  ------            --------------  -----  \n",
      " 0   customerID        7043 non-null   object \n",
      " 1   BeginDate         7043 non-null   object \n",
      " 2   EndDate           7043 non-null   object \n",
      " 3   Type              7043 non-null   object \n",
      " 4   PaperlessBilling  7043 non-null   object \n",
      " 5   PaymentMethod     7043 non-null   object \n",
      " 6   MonthlyCharges    7043 non-null   float64\n",
      " 7   TotalCharges      7043 non-null   object \n",
      "dtypes: float64(1), object(7)\n",
      "memory usage: 440.3+ KB\n"
     ]
    }
   ],
   "source": [
    "contract.info()"
   ]
  },
  {
   "cell_type": "code",
   "execution_count": 5,
   "id": "7b1294a6",
   "metadata": {},
   "outputs": [
    {
     "data": {
      "text/plain": [
       "7043"
      ]
     },
     "execution_count": 5,
     "metadata": {},
     "output_type": "execute_result"
    }
   ],
   "source": [
    "contract['customerID'].nunique()"
   ]
  },
  {
   "cell_type": "code",
   "execution_count": 6,
   "id": "df7412ba",
   "metadata": {},
   "outputs": [
    {
     "data": {
      "text/html": [
       "<div>\n",
       "<style scoped>\n",
       "    .dataframe tbody tr th:only-of-type {\n",
       "        vertical-align: middle;\n",
       "    }\n",
       "\n",
       "    .dataframe tbody tr th {\n",
       "        vertical-align: top;\n",
       "    }\n",
       "\n",
       "    .dataframe thead th {\n",
       "        text-align: right;\n",
       "    }\n",
       "</style>\n",
       "<table border=\"1\" class=\"dataframe\">\n",
       "  <thead>\n",
       "    <tr style=\"text-align: right;\">\n",
       "      <th></th>\n",
       "      <th>count</th>\n",
       "      <th>mean</th>\n",
       "      <th>std</th>\n",
       "      <th>min</th>\n",
       "      <th>25%</th>\n",
       "      <th>50%</th>\n",
       "      <th>75%</th>\n",
       "      <th>max</th>\n",
       "    </tr>\n",
       "  </thead>\n",
       "  <tbody>\n",
       "    <tr>\n",
       "      <th>MonthlyCharges</th>\n",
       "      <td>7043.0</td>\n",
       "      <td>64.761692</td>\n",
       "      <td>30.090047</td>\n",
       "      <td>18.25</td>\n",
       "      <td>35.5</td>\n",
       "      <td>70.35</td>\n",
       "      <td>89.85</td>\n",
       "      <td>118.75</td>\n",
       "    </tr>\n",
       "  </tbody>\n",
       "</table>\n",
       "</div>"
      ],
      "text/plain": [
       "                 count       mean        std    min   25%    50%    75%  \\\n",
       "MonthlyCharges  7043.0  64.761692  30.090047  18.25  35.5  70.35  89.85   \n",
       "\n",
       "                   max  \n",
       "MonthlyCharges  118.75  "
      ]
     },
     "execution_count": 6,
     "metadata": {},
     "output_type": "execute_result"
    }
   ],
   "source": [
    "contract.describe().T"
   ]
  },
  {
   "cell_type": "code",
   "execution_count": 7,
   "id": "57142eeb",
   "metadata": {},
   "outputs": [
    {
     "data": {
      "image/png": "[encoded data removed]",
      "text/plain": [
       "<Figure size 1000x500 with 1 Axes>"
      ]
     },
     "metadata": {},
     "output_type": "display_data"
    }
   ],
   "source": [
    "%matplotlib inline\n",
    "contract.hist(figsize=(10, 5))\n",
    "plt.show()"
   ]
  },
  {
   "cell_type": "code",
   "execution_count": 8,
   "id": "73062d0e",
   "metadata": {
    "scrolled": false
   },
   "outputs": [
    {
     "data": {
      "image/png": "[encoded data removed]",
      "text/plain": [
       "<Figure size 2000x1000 with 1 Axes>"
      ]
     },
     "metadata": {},
     "output_type": "display_data"
    }
   ],
   "source": [
    "g = contract.groupby('Type')['customerID'].count().plot.bar(figsize = (20,10), rot=0)\n",
    "g.axes.set_title(\"Распределение по типу контракта\", fontsize=14)\n",
    "g.set_xlabel(\"Тип контракта\", fontsize=10)\n",
    "g.set_ylabel(\"Количество клиентов, чел\", fontsize=10)\n",
    "plt.show()"
   ]
  },
  {
   "cell_type": "code",
   "execution_count": 9,
   "id": "ca1d7eaf",
   "metadata": {
    "scrolled": true
   },
   "outputs": [
    {
     "data": {
      "text/html": [
       "<div>\n",
       "<style scoped>\n",
       "    .dataframe tbody tr th:only-of-type {\n",
       "        vertical-align: middle;\n",
       "    }\n",
       "\n",
       "    .dataframe tbody tr th {\n",
       "        vertical-align: top;\n",
       "    }\n",
       "\n",
       "    .dataframe thead th {\n",
       "        text-align: right;\n",
       "    }\n",
       "</style>\n",
       "<table border=\"1\" class=\"dataframe\">\n",
       "  <thead>\n",
       "    <tr style=\"text-align: right;\">\n",
       "      <th></th>\n",
       "      <th>customerID</th>\n",
       "      <th>InternetService</th>\n",
       "      <th>OnlineSecurity</th>\n",
       "      <th>OnlineBackup</th>\n",
       "      <th>DeviceProtection</th>\n",
       "      <th>TechSupport</th>\n",
       "      <th>StreamingTV</th>\n",
       "      <th>StreamingMovies</th>\n",
       "    </tr>\n",
       "  </thead>\n",
       "  <tbody>\n",
       "    <tr>\n",
       "      <th>0</th>\n",
       "      <td>7590-VHVEG</td>\n",
       "      <td>DSL</td>\n",
       "      <td>No</td>\n",
       "      <td>Yes</td>\n",
       "      <td>No</td>\n",
       "      <td>No</td>\n",
       "      <td>No</td>\n",
       "      <td>No</td>\n",
       "    </tr>\n",
       "    <tr>\n",
       "      <th>1</th>\n",
       "      <td>5575-GNVDE</td>\n",
       "      <td>DSL</td>\n",
       "      <td>Yes</td>\n",
       "      <td>No</td>\n",
       "      <td>Yes</td>\n",
       "      <td>No</td>\n",
       "      <td>No</td>\n",
       "      <td>No</td>\n",
       "    </tr>\n",
       "    <tr>\n",
       "      <th>2</th>\n",
       "      <td>3668-QPYBK</td>\n",
       "      <td>DSL</td>\n",
       "      <td>Yes</td>\n",
       "      <td>Yes</td>\n",
       "      <td>No</td>\n",
       "      <td>No</td>\n",
       "      <td>No</td>\n",
       "      <td>No</td>\n",
       "    </tr>\n",
       "    <tr>\n",
       "      <th>3</th>\n",
       "      <td>7795-CFOCW</td>\n",
       "      <td>DSL</td>\n",
       "      <td>Yes</td>\n",
       "      <td>No</td>\n",
       "      <td>Yes</td>\n",
       "      <td>Yes</td>\n",
       "      <td>No</td>\n",
       "      <td>No</td>\n",
       "    </tr>\n",
       "    <tr>\n",
       "      <th>4</th>\n",
       "      <td>9237-HQITU</td>\n",
       "      <td>Fiber optic</td>\n",
       "      <td>No</td>\n",
       "      <td>No</td>\n",
       "      <td>No</td>\n",
       "      <td>No</td>\n",
       "      <td>No</td>\n",
       "      <td>No</td>\n",
       "    </tr>\n",
       "  </tbody>\n",
       "</table>\n",
       "</div>"
      ],
      "text/plain": [
       "   customerID InternetService OnlineSecurity OnlineBackup DeviceProtection  \\\n",
       "0  7590-VHVEG             DSL             No          Yes               No   \n",
       "1  5575-GNVDE             DSL            Yes           No              Yes   \n",
       "2  3668-QPYBK             DSL            Yes          Yes               No   \n",
       "3  7795-CFOCW             DSL            Yes           No              Yes   \n",
       "4  9237-HQITU     Fiber optic             No           No               No   \n",
       "\n",
       "  TechSupport StreamingTV StreamingMovies  \n",
       "0          No          No              No  \n",
       "1          No          No              No  \n",
       "2          No          No              No  \n",
       "3         Yes          No              No  \n",
       "4          No          No              No  "
      ]
     },
     "execution_count": 9,
     "metadata": {},
     "output_type": "execute_result"
    }
   ],
   "source": [
    "internet.head()"
   ]
  },
  {
   "cell_type": "code",
   "execution_count": 10,
   "id": "e522f212",
   "metadata": {},
   "outputs": [
    {
     "name": "stdout",
     "output_type": "stream",
     "text": [
      "<class 'pandas.core.frame.DataFrame'>\n",
      "RangeIndex: 5517 entries, 0 to 5516\n",
      "Data columns (total 8 columns):\n",
      " #   Column            Non-Null Count  Dtype \n",
      "---  ------            --------------  ----- \n",
      " 0   customerID        5517 non-null   object\n",
      " 1   InternetService   5517 non-null   object\n",
      " 2   OnlineSecurity    5517 non-null   object\n",
      " 3   OnlineBackup      5517 non-null   object\n",
      " 4   DeviceProtection  5517 non-null   object\n",
      " 5   TechSupport       5517 non-null   object\n",
      " 6   StreamingTV       5517 non-null   object\n",
      " 7   StreamingMovies   5517 non-null   object\n",
      "dtypes: object(8)\n",
      "memory usage: 344.9+ KB\n"
     ]
    }
   ],
   "source": [
    "internet.info()"
   ]
  },
  {
   "cell_type": "code",
   "execution_count": 11,
   "id": "8aa838cd",
   "metadata": {},
   "outputs": [
    {
     "data": {
      "text/plain": [
       "5517"
      ]
     },
     "execution_count": 11,
     "metadata": {},
     "output_type": "execute_result"
    }
   ],
   "source": [
    "internet['customerID'].nunique()"
   ]
  },
  {
   "cell_type": "code",
   "execution_count": 12,
   "id": "74552469",
   "metadata": {},
   "outputs": [
    {
     "data": {
      "text/html": [
       "<div>\n",
       "<style scoped>\n",
       "    .dataframe tbody tr th:only-of-type {\n",
       "        vertical-align: middle;\n",
       "    }\n",
       "\n",
       "    .dataframe tbody tr th {\n",
       "        vertical-align: top;\n",
       "    }\n",
       "\n",
       "    .dataframe thead th {\n",
       "        text-align: right;\n",
       "    }\n",
       "</style>\n",
       "<table border=\"1\" class=\"dataframe\">\n",
       "  <thead>\n",
       "    <tr style=\"text-align: right;\">\n",
       "      <th></th>\n",
       "      <th>customerID</th>\n",
       "      <th>gender</th>\n",
       "      <th>SeniorCitizen</th>\n",
       "      <th>Partner</th>\n",
       "      <th>Dependents</th>\n",
       "    </tr>\n",
       "  </thead>\n",
       "  <tbody>\n",
       "    <tr>\n",
       "      <th>0</th>\n",
       "      <td>7590-VHVEG</td>\n",
       "      <td>Female</td>\n",
       "      <td>0</td>\n",
       "      <td>Yes</td>\n",
       "      <td>No</td>\n",
       "    </tr>\n",
       "    <tr>\n",
       "      <th>1</th>\n",
       "      <td>5575-GNVDE</td>\n",
       "      <td>Male</td>\n",
       "      <td>0</td>\n",
       "      <td>No</td>\n",
       "      <td>No</td>\n",
       "    </tr>\n",
       "    <tr>\n",
       "      <th>2</th>\n",
       "      <td>3668-QPYBK</td>\n",
       "      <td>Male</td>\n",
       "      <td>0</td>\n",
       "      <td>No</td>\n",
       "      <td>No</td>\n",
       "    </tr>\n",
       "    <tr>\n",
       "      <th>3</th>\n",
       "      <td>7795-CFOCW</td>\n",
       "      <td>Male</td>\n",
       "      <td>0</td>\n",
       "      <td>No</td>\n",
       "      <td>No</td>\n",
       "    </tr>\n",
       "    <tr>\n",
       "      <th>4</th>\n",
       "      <td>9237-HQITU</td>\n",
       "      <td>Female</td>\n",
       "      <td>0</td>\n",
       "      <td>No</td>\n",
       "      <td>No</td>\n",
       "    </tr>\n",
       "  </tbody>\n",
       "</table>\n",
       "</div>"
      ],
      "text/plain": [
       "   customerID  gender  SeniorCitizen Partner Dependents\n",
       "0  7590-VHVEG  Female              0     Yes         No\n",
       "1  5575-GNVDE    Male              0      No         No\n",
       "2  3668-QPYBK    Male              0      No         No\n",
       "3  7795-CFOCW    Male              0      No         No\n",
       "4  9237-HQITU  Female              0      No         No"
      ]
     },
     "execution_count": 12,
     "metadata": {},
     "output_type": "execute_result"
    }
   ],
   "source": [
    "personal.head()"
   ]
  },
  {
   "cell_type": "code",
   "execution_count": 13,
   "id": "b8d5e4df",
   "metadata": {},
   "outputs": [
    {
     "name": "stdout",
     "output_type": "stream",
     "text": [
      "<class 'pandas.core.frame.DataFrame'>\n",
      "RangeIndex: 7043 entries, 0 to 7042\n",
      "Data columns (total 5 columns):\n",
      " #   Column         Non-Null Count  Dtype \n",
      "---  ------         --------------  ----- \n",
      " 0   customerID     7043 non-null   object\n",
      " 1   gender         7043 non-null   object\n",
      " 2   SeniorCitizen  7043 non-null   int64 \n",
      " 3   Partner        7043 non-null   object\n",
      " 4   Dependents     7043 non-null   object\n",
      "dtypes: int64(1), object(4)\n",
      "memory usage: 275.2+ KB\n"
     ]
    }
   ],
   "source": [
    "personal.info()"
   ]
  },
  {
   "cell_type": "code",
   "execution_count": 14,
   "id": "da4986b8",
   "metadata": {},
   "outputs": [
    {
     "data": {
      "text/plain": [
       "7043"
      ]
     },
     "execution_count": 14,
     "metadata": {},
     "output_type": "execute_result"
    }
   ],
   "source": [
    "personal['customerID'].nunique()"
   ]
  },
  {
   "cell_type": "code",
   "execution_count": 15,
   "id": "6b967b24",
   "metadata": {},
   "outputs": [
    {
     "data": {
      "text/html": [
       "<div>\n",
       "<style scoped>\n",
       "    .dataframe tbody tr th:only-of-type {\n",
       "        vertical-align: middle;\n",
       "    }\n",
       "\n",
       "    .dataframe tbody tr th {\n",
       "        vertical-align: top;\n",
       "    }\n",
       "\n",
       "    .dataframe thead th {\n",
       "        text-align: right;\n",
       "    }\n",
       "</style>\n",
       "<table border=\"1\" class=\"dataframe\">\n",
       "  <thead>\n",
       "    <tr style=\"text-align: right;\">\n",
       "      <th></th>\n",
       "      <th>customerID</th>\n",
       "      <th>MultipleLines</th>\n",
       "    </tr>\n",
       "  </thead>\n",
       "  <tbody>\n",
       "    <tr>\n",
       "      <th>0</th>\n",
       "      <td>5575-GNVDE</td>\n",
       "      <td>No</td>\n",
       "    </tr>\n",
       "    <tr>\n",
       "      <th>1</th>\n",
       "      <td>3668-QPYBK</td>\n",
       "      <td>No</td>\n",
       "    </tr>\n",
       "    <tr>\n",
       "      <th>2</th>\n",
       "      <td>9237-HQITU</td>\n",
       "      <td>No</td>\n",
       "    </tr>\n",
       "    <tr>\n",
       "      <th>3</th>\n",
       "      <td>9305-CDSKC</td>\n",
       "      <td>Yes</td>\n",
       "    </tr>\n",
       "    <tr>\n",
       "      <th>4</th>\n",
       "      <td>1452-KIOVK</td>\n",
       "      <td>Yes</td>\n",
       "    </tr>\n",
       "  </tbody>\n",
       "</table>\n",
       "</div>"
      ],
      "text/plain": [
       "   customerID MultipleLines\n",
       "0  5575-GNVDE            No\n",
       "1  3668-QPYBK            No\n",
       "2  9237-HQITU            No\n",
       "3  9305-CDSKC           Yes\n",
       "4  1452-KIOVK           Yes"
      ]
     },
     "execution_count": 15,
     "metadata": {},
     "output_type": "execute_result"
    }
   ],
   "source": [
    "phone.head()"
   ]
  },
  {
   "cell_type": "code",
   "execution_count": 16,
   "id": "279428e0",
   "metadata": {},
   "outputs": [
    {
     "name": "stdout",
     "output_type": "stream",
     "text": [
      "<class 'pandas.core.frame.DataFrame'>\n",
      "RangeIndex: 6361 entries, 0 to 6360\n",
      "Data columns (total 2 columns):\n",
      " #   Column         Non-Null Count  Dtype \n",
      "---  ------         --------------  ----- \n",
      " 0   customerID     6361 non-null   object\n",
      " 1   MultipleLines  6361 non-null   object\n",
      "dtypes: object(2)\n",
      "memory usage: 99.5+ KB\n"
     ]
    }
   ],
   "source": [
    "phone.info()"
   ]
  },
  {
   "cell_type": "code",
   "execution_count": 17,
   "id": "4e4830b7",
   "metadata": {
    "scrolled": true
   },
   "outputs": [
    {
     "data": {
      "text/plain": [
       "6361"
      ]
     },
     "execution_count": 17,
     "metadata": {},
     "output_type": "execute_result"
    }
   ],
   "source": [
    "phone['customerID'].nunique()"
   ]
  },
  {
   "cell_type": "markdown",
   "id": "9632cac4",
   "metadata": {},
   "source": [
    "Итого во всех таблицах отсутствуют пропуски и дубликаты по одному из ключевых признаков (id), далее необходимо объединить таблицы и проводить исследовательский анализ.\n",
    "\n",
    "Отдельно следует отметить, что у столбца `TotalCharges` в таблице `contract` необходимо будет скорректировать формат для дальнейшей обработки данных, т.к. сейчас он, несмотря на числовую природу, фактически категориальный ( object)."
   ]
  },
  {
   "cell_type": "markdown",
   "id": "5b4a0098",
   "metadata": {},
   "source": [
    "### Объединение таблиц и генерация/выделение ключевых признаков\n",
    "*Объединим таблицы, видоизменим целевой признак \"факт ухода\", выделим/сгенерируем ключевые признаки как id,телефония/ интернет, длительность сотрудничества (переведем в месяцы), средний объем затрат (в пересчете на месяц сотрудничества)*\n",
    "\n",
    "Выполним объединение по уникальным признакам  - id клиента. Максимальное количество id у нас в двух таблицах - contract и personal, поэтому начнем объединение с них. Но в самом начале объявим дату среза. Она пригодится нам в дальнейшем."
   ]
  },
  {
   "cell_type": "code",
   "execution_count": 18,
   "id": "d9cf0386",
   "metadata": {},
   "outputs": [],
   "source": [
    "slice_day = datetime.date(2020,2, 1)"
   ]
  },
  {
   "cell_type": "code",
   "execution_count": 19,
   "id": "c9ef99cb",
   "metadata": {},
   "outputs": [],
   "source": [
    "df_full = contract.merge(personal, on='customerID', how='left')"
   ]
  },
  {
   "cell_type": "markdown",
   "id": "af166a9e",
   "metadata": {},
   "source": [
    "Перед объединением таблиц internet и phone, создадим их копии и добавим в них столбец \"internet/phone\" с соответствующим признаком."
   ]
  },
  {
   "cell_type": "code",
   "execution_count": 20,
   "id": "1af2fc6a",
   "metadata": {},
   "outputs": [],
   "source": [
    "internet_c = internet.copy()\n",
    "internet_c['Internet'] = ['Yes'] * internet_c.shape[0]\n",
    "phone_c = phone.copy()\n",
    "phone_c['Phone'] = ['Yes'] * phone_c.shape[0]"
   ]
  },
  {
   "cell_type": "code",
   "execution_count": 21,
   "id": "85bbd90d",
   "metadata": {},
   "outputs": [
    {
     "data": {
      "text/html": [
       "<div>\n",
       "<style scoped>\n",
       "    .dataframe tbody tr th:only-of-type {\n",
       "        vertical-align: middle;\n",
       "    }\n",
       "\n",
       "    .dataframe tbody tr th {\n",
       "        vertical-align: top;\n",
       "    }\n",
       "\n",
       "    .dataframe thead th {\n",
       "        text-align: right;\n",
       "    }\n",
       "</style>\n",
       "<table border=\"1\" class=\"dataframe\">\n",
       "  <thead>\n",
       "    <tr style=\"text-align: right;\">\n",
       "      <th></th>\n",
       "      <th>customerID</th>\n",
       "      <th>BeginDate</th>\n",
       "      <th>EndDate</th>\n",
       "      <th>Type</th>\n",
       "      <th>PaperlessBilling</th>\n",
       "      <th>PaymentMethod</th>\n",
       "      <th>MonthlyCharges</th>\n",
       "      <th>TotalCharges</th>\n",
       "      <th>gender</th>\n",
       "      <th>SeniorCitizen</th>\n",
       "      <th>...</th>\n",
       "      <th>InternetService</th>\n",
       "      <th>OnlineSecurity</th>\n",
       "      <th>OnlineBackup</th>\n",
       "      <th>DeviceProtection</th>\n",
       "      <th>TechSupport</th>\n",
       "      <th>StreamingTV</th>\n",
       "      <th>StreamingMovies</th>\n",
       "      <th>Internet</th>\n",
       "      <th>MultipleLines</th>\n",
       "      <th>Phone</th>\n",
       "    </tr>\n",
       "  </thead>\n",
       "  <tbody>\n",
       "    <tr>\n",
       "      <th>0</th>\n",
       "      <td>7590-VHVEG</td>\n",
       "      <td>2020-01-01</td>\n",
       "      <td>No</td>\n",
       "      <td>Month-to-month</td>\n",
       "      <td>Yes</td>\n",
       "      <td>Electronic check</td>\n",
       "      <td>29.85</td>\n",
       "      <td>29.85</td>\n",
       "      <td>Female</td>\n",
       "      <td>0</td>\n",
       "      <td>...</td>\n",
       "      <td>DSL</td>\n",
       "      <td>No</td>\n",
       "      <td>Yes</td>\n",
       "      <td>No</td>\n",
       "      <td>No</td>\n",
       "      <td>No</td>\n",
       "      <td>No</td>\n",
       "      <td>Yes</td>\n",
       "      <td>NaN</td>\n",
       "      <td>NaN</td>\n",
       "    </tr>\n",
       "    <tr>\n",
       "      <th>1</th>\n",
       "      <td>5575-GNVDE</td>\n",
       "      <td>2017-04-01</td>\n",
       "      <td>No</td>\n",
       "      <td>One year</td>\n",
       "      <td>No</td>\n",
       "      <td>Mailed check</td>\n",
       "      <td>56.95</td>\n",
       "      <td>1889.5</td>\n",
       "      <td>Male</td>\n",
       "      <td>0</td>\n",
       "      <td>...</td>\n",
       "      <td>DSL</td>\n",
       "      <td>Yes</td>\n",
       "      <td>No</td>\n",
       "      <td>Yes</td>\n",
       "      <td>No</td>\n",
       "      <td>No</td>\n",
       "      <td>No</td>\n",
       "      <td>Yes</td>\n",
       "      <td>No</td>\n",
       "      <td>Yes</td>\n",
       "    </tr>\n",
       "    <tr>\n",
       "      <th>2</th>\n",
       "      <td>3668-QPYBK</td>\n",
       "      <td>2019-10-01</td>\n",
       "      <td>2019-12-01 00:00:00</td>\n",
       "      <td>Month-to-month</td>\n",
       "      <td>Yes</td>\n",
       "      <td>Mailed check</td>\n",
       "      <td>53.85</td>\n",
       "      <td>108.15</td>\n",
       "      <td>Male</td>\n",
       "      <td>0</td>\n",
       "      <td>...</td>\n",
       "      <td>DSL</td>\n",
       "      <td>Yes</td>\n",
       "      <td>Yes</td>\n",
       "      <td>No</td>\n",
       "      <td>No</td>\n",
       "      <td>No</td>\n",
       "      <td>No</td>\n",
       "      <td>Yes</td>\n",
       "      <td>No</td>\n",
       "      <td>Yes</td>\n",
       "    </tr>\n",
       "    <tr>\n",
       "      <th>3</th>\n",
       "      <td>7795-CFOCW</td>\n",
       "      <td>2016-05-01</td>\n",
       "      <td>No</td>\n",
       "      <td>One year</td>\n",
       "      <td>No</td>\n",
       "      <td>Bank transfer (automatic)</td>\n",
       "      <td>42.30</td>\n",
       "      <td>1840.75</td>\n",
       "      <td>Male</td>\n",
       "      <td>0</td>\n",
       "      <td>...</td>\n",
       "      <td>DSL</td>\n",
       "      <td>Yes</td>\n",
       "      <td>No</td>\n",
       "      <td>Yes</td>\n",
       "      <td>Yes</td>\n",
       "      <td>No</td>\n",
       "      <td>No</td>\n",
       "      <td>Yes</td>\n",
       "      <td>NaN</td>\n",
       "      <td>NaN</td>\n",
       "    </tr>\n",
       "    <tr>\n",
       "      <th>4</th>\n",
       "      <td>9237-HQITU</td>\n",
       "      <td>2019-09-01</td>\n",
       "      <td>2019-11-01 00:00:00</td>\n",
       "      <td>Month-to-month</td>\n",
       "      <td>Yes</td>\n",
       "      <td>Electronic check</td>\n",
       "      <td>70.70</td>\n",
       "      <td>151.65</td>\n",
       "      <td>Female</td>\n",
       "      <td>0</td>\n",
       "      <td>...</td>\n",
       "      <td>Fiber optic</td>\n",
       "      <td>No</td>\n",
       "      <td>No</td>\n",
       "      <td>No</td>\n",
       "      <td>No</td>\n",
       "      <td>No</td>\n",
       "      <td>No</td>\n",
       "      <td>Yes</td>\n",
       "      <td>No</td>\n",
       "      <td>Yes</td>\n",
       "    </tr>\n",
       "  </tbody>\n",
       "</table>\n",
       "<p>5 rows × 22 columns</p>\n",
       "</div>"
      ],
      "text/plain": [
       "   customerID   BeginDate              EndDate            Type  \\\n",
       "0  7590-VHVEG  2020-01-01                   No  Month-to-month   \n",
       "1  5575-GNVDE  2017-04-01                   No        One year   \n",
       "2  3668-QPYBK  2019-10-01  2019-12-01 00:00:00  Month-to-month   \n",
       "3  7795-CFOCW  2016-05-01                   No        One year   \n",
       "4  9237-HQITU  2019-09-01  2019-11-01 00:00:00  Month-to-month   \n",
       "\n",
       "  PaperlessBilling              PaymentMethod  MonthlyCharges TotalCharges  \\\n",
       "0              Yes           Electronic check           29.85        29.85   \n",
       "1               No               Mailed check           56.95       1889.5   \n",
       "2              Yes               Mailed check           53.85       108.15   \n",
       "3               No  Bank transfer (automatic)           42.30      1840.75   \n",
       "4              Yes           Electronic check           70.70       151.65   \n",
       "\n",
       "   gender  SeniorCitizen  ... InternetService OnlineSecurity OnlineBackup  \\\n",
       "0  Female              0  ...             DSL             No          Yes   \n",
       "1    Male              0  ...             DSL            Yes           No   \n",
       "2    Male              0  ...             DSL            Yes          Yes   \n",
       "3    Male              0  ...             DSL            Yes           No   \n",
       "4  Female              0  ...     Fiber optic             No           No   \n",
       "\n",
       "  DeviceProtection TechSupport StreamingTV StreamingMovies Internet  \\\n",
       "0               No          No          No              No      Yes   \n",
       "1              Yes          No          No              No      Yes   \n",
       "2               No          No          No              No      Yes   \n",
       "3              Yes         Yes          No              No      Yes   \n",
       "4               No          No          No              No      Yes   \n",
       "\n",
       "  MultipleLines Phone  \n",
       "0           NaN   NaN  \n",
       "1            No   Yes  \n",
       "2            No   Yes  \n",
       "3           NaN   NaN  \n",
       "4            No   Yes  \n",
       "\n",
       "[5 rows x 22 columns]"
      ]
     },
     "execution_count": 21,
     "metadata": {},
     "output_type": "execute_result"
    }
   ],
   "source": [
    "df_full = df_full.merge(internet_c, on='customerID', how='left')\n",
    "df_full = df_full.merge(phone_c, on='customerID', how='left')\n",
    "df_full.head(5)"
   ]
  },
  {
   "cell_type": "code",
   "execution_count": 22,
   "id": "3b378c57",
   "metadata": {},
   "outputs": [
    {
     "name": "stdout",
     "output_type": "stream",
     "text": [
      "<class 'pandas.core.frame.DataFrame'>\n",
      "Int64Index: 7043 entries, 0 to 7042\n",
      "Data columns (total 22 columns):\n",
      " #   Column            Non-Null Count  Dtype  \n",
      "---  ------            --------------  -----  \n",
      " 0   customerID        7043 non-null   object \n",
      " 1   BeginDate         7043 non-null   object \n",
      " 2   EndDate           7043 non-null   object \n",
      " 3   Type              7043 non-null   object \n",
      " 4   PaperlessBilling  7043 non-null   object \n",
      " 5   PaymentMethod     7043 non-null   object \n",
      " 6   MonthlyCharges    7043 non-null   float64\n",
      " 7   TotalCharges      7043 non-null   object \n",
      " 8   gender            7043 non-null   object \n",
      " 9   SeniorCitizen     7043 non-null   int64  \n",
      " 10  Partner           7043 non-null   object \n",
      " 11  Dependents        7043 non-null   object \n",
      " 12  InternetService   5517 non-null   object \n",
      " 13  OnlineSecurity    5517 non-null   object \n",
      " 14  OnlineBackup      5517 non-null   object \n",
      " 15  DeviceProtection  5517 non-null   object \n",
      " 16  TechSupport       5517 non-null   object \n",
      " 17  StreamingTV       5517 non-null   object \n",
      " 18  StreamingMovies   5517 non-null   object \n",
      " 19  Internet          5517 non-null   object \n",
      " 20  MultipleLines     6361 non-null   object \n",
      " 21  Phone             6361 non-null   object \n",
      "dtypes: float64(1), int64(1), object(20)\n",
      "memory usage: 1.2+ MB\n"
     ]
    }
   ],
   "source": [
    "df_full.info()"
   ]
  },
  {
   "cell_type": "markdown",
   "id": "9359ce0f",
   "metadata": {},
   "source": [
    "В связи с тем, что в новых присоединенных таблицах отсутствовала часть значений (т.к. не все абоненты пользовались интернетом и/или телефоном), у нас образовались в объединенной таблице пропуски. Заполним их \"No\", т.к. если они отсутствуют, то данными услугами клиент не пользовался."
   ]
  },
  {
   "cell_type": "code",
   "execution_count": 23,
   "id": "574c2cdb",
   "metadata": {},
   "outputs": [],
   "source": [
    "df_full = df_full.fillna('No')"
   ]
  },
  {
   "cell_type": "markdown",
   "id": "17e3700c",
   "metadata": {},
   "source": [
    "Также переведем:\n",
    " - столбец `BeginDate` и `EndDate` переведем в формат даты, перед этим также заменим значения 'No' в столбце `EndDate` на значение даты среза. Предварительно **выделим ключевой признак `Exited`** - ушел клиент или нет.\n",
    " - столбец `TotalCharges` в формат `float64`\n",
    " - столбец `SeniorCitizen` заполним по подобию прочего (0 заменим на `No`, 1 на `Yes`) и переведем в формат `object`\n",
    " \n",
    "*Отдельно отметим, что мы не приводим столбцы к нижнему регистру, несмотря на принятые нормы, т.к. некоторые названия в текущем регистре будет проще читать*"
   ]
  },
  {
   "cell_type": "code",
   "execution_count": 24,
   "id": "a18057ec",
   "metadata": {},
   "outputs": [],
   "source": [
    "#выделяем ключевой признак.\n",
    "df_full['Exited'] = df_full['EndDate']\n",
    "df_full['Exited'] = df_full['Exited'].where(df_full['Exited'] == 'No', 'Yes')"
   ]
  },
  {
   "cell_type": "code",
   "execution_count": 25,
   "id": "6a5b55aa",
   "metadata": {},
   "outputs": [],
   "source": [
    "df_full['BeginDate'] = pd.to_datetime(df_full['BeginDate'], format='%Y.%m.%d %H:%M:%S').dt.round('1D')\n",
    "df_full['EndDate'] = df_full['EndDate'].replace('No', slice_day)\n",
    "df_full['EndDate'] = pd.to_datetime(df_full['EndDate'], format='%Y.%m.%d %H:%M:%S').dt.round('1D')"
   ]
  },
  {
   "cell_type": "code",
   "execution_count": 26,
   "id": "d638993b",
   "metadata": {},
   "outputs": [],
   "source": [
    "df_full['SeniorCitizen'] = df_full['SeniorCitizen'].replace(0,'No')\n",
    "df_full['SeniorCitizen'] = df_full['SeniorCitizen'].replace(1,'Yes')"
   ]
  },
  {
   "cell_type": "markdown",
   "id": "8e94948e",
   "metadata": {},
   "source": [
    "Проверим еще раз корректность заполнения категориальных столбцов после преобразований."
   ]
  },
  {
   "cell_type": "code",
   "execution_count": 27,
   "id": "cb7520c0",
   "metadata": {},
   "outputs": [],
   "source": [
    "temp = df_full.select_dtypes(include='object').columns.to_list()"
   ]
  },
  {
   "cell_type": "code",
   "execution_count": 28,
   "id": "daf77f3c",
   "metadata": {
    "scrolled": false
   },
   "outputs": [
    {
     "name": "stdout",
     "output_type": "stream",
     "text": [
      "['7590-VHVEG' '5575-GNVDE' '3668-QPYBK' ... '4801-JZAZL' '8361-LTMKD'\n",
      " '3186-AJIEK']\n",
      "['Month-to-month' 'One year' 'Two year']\n",
      "['Yes' 'No']\n",
      "['Electronic check' 'Mailed check' 'Bank transfer (automatic)'\n",
      " 'Credit card (automatic)']\n",
      "['29.85' '1889.5' '108.15' ... '346.45' '306.6' '6844.5']\n",
      "['Female' 'Male']\n",
      "['No' 'Yes']\n",
      "['Yes' 'No']\n",
      "['No' 'Yes']\n",
      "['DSL' 'Fiber optic' 'No']\n",
      "['No' 'Yes']\n",
      "['Yes' 'No']\n",
      "['No' 'Yes']\n",
      "['No' 'Yes']\n",
      "['No' 'Yes']\n",
      "['No' 'Yes']\n",
      "['Yes' 'No']\n",
      "['No' 'Yes']\n",
      "['No' 'Yes']\n",
      "['No' 'Yes']\n"
     ]
    }
   ],
   "source": [
    "for t in temp:\n",
    "    print(df_full[t].unique())"
   ]
  },
  {
   "cell_type": "code",
   "execution_count": 29,
   "id": "584d7bb4",
   "metadata": {},
   "outputs": [],
   "source": [
    "df_full['TotalCharges'] = pd.to_numeric(df_full['TotalCharges'], errors='coerce')"
   ]
  },
  {
   "cell_type": "code",
   "execution_count": 30,
   "id": "3b3d5357",
   "metadata": {},
   "outputs": [
    {
     "name": "stdout",
     "output_type": "stream",
     "text": [
      "<class 'pandas.core.frame.DataFrame'>\n",
      "Int64Index: 7043 entries, 0 to 7042\n",
      "Data columns (total 23 columns):\n",
      " #   Column            Non-Null Count  Dtype         \n",
      "---  ------            --------------  -----         \n",
      " 0   customerID        7043 non-null   object        \n",
      " 1   BeginDate         7043 non-null   datetime64[ns]\n",
      " 2   EndDate           7043 non-null   datetime64[ns]\n",
      " 3   Type              7043 non-null   object        \n",
      " 4   PaperlessBilling  7043 non-null   object        \n",
      " 5   PaymentMethod     7043 non-null   object        \n",
      " 6   MonthlyCharges    7043 non-null   float64       \n",
      " 7   TotalCharges      7032 non-null   float64       \n",
      " 8   gender            7043 non-null   object        \n",
      " 9   SeniorCitizen     7043 non-null   object        \n",
      " 10  Partner           7043 non-null   object        \n",
      " 11  Dependents        7043 non-null   object        \n",
      " 12  InternetService   7043 non-null   object        \n",
      " 13  OnlineSecurity    7043 non-null   object        \n",
      " 14  OnlineBackup      7043 non-null   object        \n",
      " 15  DeviceProtection  7043 non-null   object        \n",
      " 16  TechSupport       7043 non-null   object        \n",
      " 17  StreamingTV       7043 non-null   object        \n",
      " 18  StreamingMovies   7043 non-null   object        \n",
      " 19  Internet          7043 non-null   object        \n",
      " 20  MultipleLines     7043 non-null   object        \n",
      " 21  Phone             7043 non-null   object        \n",
      " 22  Exited            7043 non-null   object        \n",
      "dtypes: datetime64[ns](2), float64(2), object(19)\n",
      "memory usage: 1.3+ MB\n"
     ]
    }
   ],
   "source": [
    "df_full.info()"
   ]
  },
  {
   "cell_type": "markdown",
   "id": "20c76145",
   "metadata": {},
   "source": [
    "Мы видим, что с переводом столбца `TotalCharges` в числовое значение возникли затруднения: часть информации оказалась нераспознана. Выясним, что было в этих строках."
   ]
  },
  {
   "cell_type": "code",
   "execution_count": 31,
   "id": "d49d34fa",
   "metadata": {},
   "outputs": [
    {
     "data": {
      "text/html": [
       "<div>\n",
       "<style scoped>\n",
       "    .dataframe tbody tr th:only-of-type {\n",
       "        vertical-align: middle;\n",
       "    }\n",
       "\n",
       "    .dataframe tbody tr th {\n",
       "        vertical-align: top;\n",
       "    }\n",
       "\n",
       "    .dataframe thead th {\n",
       "        text-align: right;\n",
       "    }\n",
       "</style>\n",
       "<table border=\"1\" class=\"dataframe\">\n",
       "  <thead>\n",
       "    <tr style=\"text-align: right;\">\n",
       "      <th></th>\n",
       "      <th>customerID</th>\n",
       "      <th>BeginDate</th>\n",
       "      <th>EndDate</th>\n",
       "      <th>Type</th>\n",
       "      <th>PaperlessBilling</th>\n",
       "      <th>PaymentMethod</th>\n",
       "      <th>MonthlyCharges</th>\n",
       "      <th>TotalCharges</th>\n",
       "    </tr>\n",
       "  </thead>\n",
       "  <tbody>\n",
       "    <tr>\n",
       "      <th>488</th>\n",
       "      <td>4472-LVYGI</td>\n",
       "      <td>2020-02-01</td>\n",
       "      <td>No</td>\n",
       "      <td>Two year</td>\n",
       "      <td>Yes</td>\n",
       "      <td>Bank transfer (automatic)</td>\n",
       "      <td>52.55</td>\n",
       "      <td></td>\n",
       "    </tr>\n",
       "    <tr>\n",
       "      <th>753</th>\n",
       "      <td>3115-CZMZD</td>\n",
       "      <td>2020-02-01</td>\n",
       "      <td>No</td>\n",
       "      <td>Two year</td>\n",
       "      <td>No</td>\n",
       "      <td>Mailed check</td>\n",
       "      <td>20.25</td>\n",
       "      <td></td>\n",
       "    </tr>\n",
       "    <tr>\n",
       "      <th>936</th>\n",
       "      <td>5709-LVOEQ</td>\n",
       "      <td>2020-02-01</td>\n",
       "      <td>No</td>\n",
       "      <td>Two year</td>\n",
       "      <td>No</td>\n",
       "      <td>Mailed check</td>\n",
       "      <td>80.85</td>\n",
       "      <td></td>\n",
       "    </tr>\n",
       "    <tr>\n",
       "      <th>1082</th>\n",
       "      <td>4367-NUYAO</td>\n",
       "      <td>2020-02-01</td>\n",
       "      <td>No</td>\n",
       "      <td>Two year</td>\n",
       "      <td>No</td>\n",
       "      <td>Mailed check</td>\n",
       "      <td>25.75</td>\n",
       "      <td></td>\n",
       "    </tr>\n",
       "    <tr>\n",
       "      <th>1340</th>\n",
       "      <td>1371-DWPAZ</td>\n",
       "      <td>2020-02-01</td>\n",
       "      <td>No</td>\n",
       "      <td>Two year</td>\n",
       "      <td>No</td>\n",
       "      <td>Credit card (automatic)</td>\n",
       "      <td>56.05</td>\n",
       "      <td></td>\n",
       "    </tr>\n",
       "    <tr>\n",
       "      <th>3331</th>\n",
       "      <td>7644-OMVMY</td>\n",
       "      <td>2020-02-01</td>\n",
       "      <td>No</td>\n",
       "      <td>Two year</td>\n",
       "      <td>No</td>\n",
       "      <td>Mailed check</td>\n",
       "      <td>19.85</td>\n",
       "      <td></td>\n",
       "    </tr>\n",
       "    <tr>\n",
       "      <th>3826</th>\n",
       "      <td>3213-VVOLG</td>\n",
       "      <td>2020-02-01</td>\n",
       "      <td>No</td>\n",
       "      <td>Two year</td>\n",
       "      <td>No</td>\n",
       "      <td>Mailed check</td>\n",
       "      <td>25.35</td>\n",
       "      <td></td>\n",
       "    </tr>\n",
       "    <tr>\n",
       "      <th>4380</th>\n",
       "      <td>2520-SGTTA</td>\n",
       "      <td>2020-02-01</td>\n",
       "      <td>No</td>\n",
       "      <td>Two year</td>\n",
       "      <td>No</td>\n",
       "      <td>Mailed check</td>\n",
       "      <td>20.00</td>\n",
       "      <td></td>\n",
       "    </tr>\n",
       "    <tr>\n",
       "      <th>5218</th>\n",
       "      <td>2923-ARZLG</td>\n",
       "      <td>2020-02-01</td>\n",
       "      <td>No</td>\n",
       "      <td>One year</td>\n",
       "      <td>Yes</td>\n",
       "      <td>Mailed check</td>\n",
       "      <td>19.70</td>\n",
       "      <td></td>\n",
       "    </tr>\n",
       "    <tr>\n",
       "      <th>6670</th>\n",
       "      <td>4075-WKNIU</td>\n",
       "      <td>2020-02-01</td>\n",
       "      <td>No</td>\n",
       "      <td>Two year</td>\n",
       "      <td>No</td>\n",
       "      <td>Mailed check</td>\n",
       "      <td>73.35</td>\n",
       "      <td></td>\n",
       "    </tr>\n",
       "    <tr>\n",
       "      <th>6754</th>\n",
       "      <td>2775-SEFEE</td>\n",
       "      <td>2020-02-01</td>\n",
       "      <td>No</td>\n",
       "      <td>Two year</td>\n",
       "      <td>Yes</td>\n",
       "      <td>Bank transfer (automatic)</td>\n",
       "      <td>61.90</td>\n",
       "      <td></td>\n",
       "    </tr>\n",
       "  </tbody>\n",
       "</table>\n",
       "</div>"
      ],
      "text/plain": [
       "      customerID   BeginDate EndDate      Type PaperlessBilling  \\\n",
       "488   4472-LVYGI  2020-02-01      No  Two year              Yes   \n",
       "753   3115-CZMZD  2020-02-01      No  Two year               No   \n",
       "936   5709-LVOEQ  2020-02-01      No  Two year               No   \n",
       "1082  4367-NUYAO  2020-02-01      No  Two year               No   \n",
       "1340  1371-DWPAZ  2020-02-01      No  Two year               No   \n",
       "3331  7644-OMVMY  2020-02-01      No  Two year               No   \n",
       "3826  3213-VVOLG  2020-02-01      No  Two year               No   \n",
       "4380  2520-SGTTA  2020-02-01      No  Two year               No   \n",
       "5218  2923-ARZLG  2020-02-01      No  One year              Yes   \n",
       "6670  4075-WKNIU  2020-02-01      No  Two year               No   \n",
       "6754  2775-SEFEE  2020-02-01      No  Two year              Yes   \n",
       "\n",
       "                  PaymentMethod  MonthlyCharges TotalCharges  \n",
       "488   Bank transfer (automatic)           52.55               \n",
       "753                Mailed check           20.25               \n",
       "936                Mailed check           80.85               \n",
       "1082               Mailed check           25.75               \n",
       "1340    Credit card (automatic)           56.05               \n",
       "3331               Mailed check           19.85               \n",
       "3826               Mailed check           25.35               \n",
       "4380               Mailed check           20.00               \n",
       "5218               Mailed check           19.70               \n",
       "6670               Mailed check           73.35               \n",
       "6754  Bank transfer (automatic)           61.90               "
      ]
     },
     "execution_count": 31,
     "metadata": {},
     "output_type": "execute_result"
    }
   ],
   "source": [
    "error_id = df_full.loc[df_full['TotalCharges'].isna()]['customerID']\n",
    "error_id\n",
    "contract.loc[contract['customerID'].isin(error_id) == True]"
   ]
  },
  {
   "cell_type": "markdown",
   "id": "779f1f17",
   "metadata": {},
   "source": [
    "Итого у нас имеется 11 абонентов, подключившихся буквально в дату среза, у большинства из них долгосрочные контракты, но, соответственно, они не успели еще оплатить услуги. Сохраним этих абонентов, т.к. такая ситуация может быть каждый раз при формировании среза, модели необходимо научится работать с такими данными. Заменим в нашей объединенной таблице пропуски на 0."
   ]
  },
  {
   "cell_type": "code",
   "execution_count": 32,
   "id": "6e89229b",
   "metadata": {},
   "outputs": [
    {
     "name": "stdout",
     "output_type": "stream",
     "text": [
      "<class 'pandas.core.frame.DataFrame'>\n",
      "Int64Index: 7043 entries, 0 to 7042\n",
      "Data columns (total 23 columns):\n",
      " #   Column            Non-Null Count  Dtype         \n",
      "---  ------            --------------  -----         \n",
      " 0   customerID        7043 non-null   object        \n",
      " 1   BeginDate         7043 non-null   datetime64[ns]\n",
      " 2   EndDate           7043 non-null   datetime64[ns]\n",
      " 3   Type              7043 non-null   object        \n",
      " 4   PaperlessBilling  7043 non-null   object        \n",
      " 5   PaymentMethod     7043 non-null   object        \n",
      " 6   MonthlyCharges    7043 non-null   float64       \n",
      " 7   TotalCharges      7043 non-null   float64       \n",
      " 8   gender            7043 non-null   object        \n",
      " 9   SeniorCitizen     7043 non-null   object        \n",
      " 10  Partner           7043 non-null   object        \n",
      " 11  Dependents        7043 non-null   object        \n",
      " 12  InternetService   7043 non-null   object        \n",
      " 13  OnlineSecurity    7043 non-null   object        \n",
      " 14  OnlineBackup      7043 non-null   object        \n",
      " 15  DeviceProtection  7043 non-null   object        \n",
      " 16  TechSupport       7043 non-null   object        \n",
      " 17  StreamingTV       7043 non-null   object        \n",
      " 18  StreamingMovies   7043 non-null   object        \n",
      " 19  Internet          7043 non-null   object        \n",
      " 20  MultipleLines     7043 non-null   object        \n",
      " 21  Phone             7043 non-null   object        \n",
      " 22  Exited            7043 non-null   object        \n",
      "dtypes: datetime64[ns](2), float64(2), object(19)\n",
      "memory usage: 1.3+ MB\n"
     ]
    }
   ],
   "source": [
    "df_full['TotalCharges'] = df_full['TotalCharges'].fillna(0)\n",
    "df_full.info()"
   ]
  },
  {
   "cell_type": "markdown",
   "id": "455315ab",
   "metadata": {},
   "source": [
    "Cоздадим новые дополнительные признаки: \n",
    " - среднее время сотрудничества в месяцах (`AVG_coop` от англ. average term of cooperation) \n",
    " - средний чек за время сотрудничества (`AVG_check` от англ. average check)"
   ]
  },
  {
   "cell_type": "code",
   "execution_count": 33,
   "id": "6796d4e4",
   "metadata": {},
   "outputs": [],
   "source": [
    "df_full['AVG_coop'] =round((df_full['EndDate'] - df_full['BeginDate'])/np.timedelta64(1,'D'))\n",
    "df_full['AVG_check'] = round(df_full['TotalCharges']/df_full['AVG_coop']*30,2)"
   ]
  },
  {
   "cell_type": "markdown",
   "id": "870f55e7",
   "metadata": {},
   "source": [
    "Напоследок удалим столбцы `BeginDate` и `EndDate`, т.к. теперь они нам не нужны, для анализа нам доступен срок сотрудничества, а их наличие только негативно скажется на предсказательной способности модели в дальнейшем. Если бы у нас была доступна информация о дополнительных событиях, которые могли повлиять на \"вход\" клиента (т.е. на дату `BeginDate`, например, действие какой-то рекламной компании в определенный период времени, отсутствие конкурентов в этот период времени и пр.), то можно было бы оставить этот столбец для анализа, однако в наших данных такого нет, столбец больше смысловой нагрузки для нас не несет."
   ]
  },
  {
   "cell_type": "code",
   "execution_count": 34,
   "id": "d8f6679c",
   "metadata": {},
   "outputs": [
    {
     "name": "stdout",
     "output_type": "stream",
     "text": [
      "<class 'pandas.core.frame.DataFrame'>\n",
      "Int64Index: 7043 entries, 0 to 7042\n",
      "Data columns (total 25 columns):\n",
      " #   Column            Non-Null Count  Dtype         \n",
      "---  ------            --------------  -----         \n",
      " 0   customerID        7043 non-null   object        \n",
      " 1   BeginDate         7043 non-null   datetime64[ns]\n",
      " 2   EndDate           7043 non-null   datetime64[ns]\n",
      " 3   Type              7043 non-null   object        \n",
      " 4   PaperlessBilling  7043 non-null   object        \n",
      " 5   PaymentMethod     7043 non-null   object        \n",
      " 6   MonthlyCharges    7043 non-null   float64       \n",
      " 7   TotalCharges      7043 non-null   float64       \n",
      " 8   gender            7043 non-null   object        \n",
      " 9   SeniorCitizen     7043 non-null   object        \n",
      " 10  Partner           7043 non-null   object        \n",
      " 11  Dependents        7043 non-null   object        \n",
      " 12  InternetService   7043 non-null   object        \n",
      " 13  OnlineSecurity    7043 non-null   object        \n",
      " 14  OnlineBackup      7043 non-null   object        \n",
      " 15  DeviceProtection  7043 non-null   object        \n",
      " 16  TechSupport       7043 non-null   object        \n",
      " 17  StreamingTV       7043 non-null   object        \n",
      " 18  StreamingMovies   7043 non-null   object        \n",
      " 19  Internet          7043 non-null   object        \n",
      " 20  MultipleLines     7043 non-null   object        \n",
      " 21  Phone             7043 non-null   object        \n",
      " 22  Exited            7043 non-null   object        \n",
      " 23  AVG_coop          7043 non-null   float64       \n",
      " 24  AVG_check         7032 non-null   float64       \n",
      "dtypes: datetime64[ns](2), float64(4), object(19)\n",
      "memory usage: 1.4+ MB\n"
     ]
    }
   ],
   "source": [
    "df_full.info()"
   ]
  },
  {
   "cell_type": "markdown",
   "id": "0ae3fdf3",
   "metadata": {},
   "source": [
    "Столбец AVG_check не заполнен полностью, проверим причину."
   ]
  },
  {
   "cell_type": "code",
   "execution_count": 35,
   "id": "b2ea06dc",
   "metadata": {},
   "outputs": [
    {
     "data": {
      "text/html": [
       "<div>\n",
       "<style scoped>\n",
       "    .dataframe tbody tr th:only-of-type {\n",
       "        vertical-align: middle;\n",
       "    }\n",
       "\n",
       "    .dataframe tbody tr th {\n",
       "        vertical-align: top;\n",
       "    }\n",
       "\n",
       "    .dataframe thead th {\n",
       "        text-align: right;\n",
       "    }\n",
       "</style>\n",
       "<table border=\"1\" class=\"dataframe\">\n",
       "  <thead>\n",
       "    <tr style=\"text-align: right;\">\n",
       "      <th></th>\n",
       "      <th>customerID</th>\n",
       "      <th>BeginDate</th>\n",
       "      <th>EndDate</th>\n",
       "      <th>Type</th>\n",
       "      <th>PaperlessBilling</th>\n",
       "      <th>PaymentMethod</th>\n",
       "      <th>MonthlyCharges</th>\n",
       "      <th>TotalCharges</th>\n",
       "      <th>gender</th>\n",
       "      <th>SeniorCitizen</th>\n",
       "      <th>...</th>\n",
       "      <th>DeviceProtection</th>\n",
       "      <th>TechSupport</th>\n",
       "      <th>StreamingTV</th>\n",
       "      <th>StreamingMovies</th>\n",
       "      <th>Internet</th>\n",
       "      <th>MultipleLines</th>\n",
       "      <th>Phone</th>\n",
       "      <th>Exited</th>\n",
       "      <th>AVG_coop</th>\n",
       "      <th>AVG_check</th>\n",
       "    </tr>\n",
       "  </thead>\n",
       "  <tbody>\n",
       "    <tr>\n",
       "      <th>488</th>\n",
       "      <td>4472-LVYGI</td>\n",
       "      <td>2020-02-01</td>\n",
       "      <td>2020-02-01</td>\n",
       "      <td>Two year</td>\n",
       "      <td>Yes</td>\n",
       "      <td>Bank transfer (automatic)</td>\n",
       "      <td>52.55</td>\n",
       "      <td>0.0</td>\n",
       "      <td>Female</td>\n",
       "      <td>No</td>\n",
       "      <td>...</td>\n",
       "      <td>Yes</td>\n",
       "      <td>Yes</td>\n",
       "      <td>Yes</td>\n",
       "      <td>No</td>\n",
       "      <td>Yes</td>\n",
       "      <td>No</td>\n",
       "      <td>No</td>\n",
       "      <td>No</td>\n",
       "      <td>0.0</td>\n",
       "      <td>NaN</td>\n",
       "    </tr>\n",
       "    <tr>\n",
       "      <th>753</th>\n",
       "      <td>3115-CZMZD</td>\n",
       "      <td>2020-02-01</td>\n",
       "      <td>2020-02-01</td>\n",
       "      <td>Two year</td>\n",
       "      <td>No</td>\n",
       "      <td>Mailed check</td>\n",
       "      <td>20.25</td>\n",
       "      <td>0.0</td>\n",
       "      <td>Male</td>\n",
       "      <td>No</td>\n",
       "      <td>...</td>\n",
       "      <td>No</td>\n",
       "      <td>No</td>\n",
       "      <td>No</td>\n",
       "      <td>No</td>\n",
       "      <td>No</td>\n",
       "      <td>No</td>\n",
       "      <td>Yes</td>\n",
       "      <td>No</td>\n",
       "      <td>0.0</td>\n",
       "      <td>NaN</td>\n",
       "    </tr>\n",
       "    <tr>\n",
       "      <th>936</th>\n",
       "      <td>5709-LVOEQ</td>\n",
       "      <td>2020-02-01</td>\n",
       "      <td>2020-02-01</td>\n",
       "      <td>Two year</td>\n",
       "      <td>No</td>\n",
       "      <td>Mailed check</td>\n",
       "      <td>80.85</td>\n",
       "      <td>0.0</td>\n",
       "      <td>Female</td>\n",
       "      <td>No</td>\n",
       "      <td>...</td>\n",
       "      <td>Yes</td>\n",
       "      <td>No</td>\n",
       "      <td>Yes</td>\n",
       "      <td>Yes</td>\n",
       "      <td>Yes</td>\n",
       "      <td>No</td>\n",
       "      <td>Yes</td>\n",
       "      <td>No</td>\n",
       "      <td>0.0</td>\n",
       "      <td>NaN</td>\n",
       "    </tr>\n",
       "    <tr>\n",
       "      <th>1082</th>\n",
       "      <td>4367-NUYAO</td>\n",
       "      <td>2020-02-01</td>\n",
       "      <td>2020-02-01</td>\n",
       "      <td>Two year</td>\n",
       "      <td>No</td>\n",
       "      <td>Mailed check</td>\n",
       "      <td>25.75</td>\n",
       "      <td>0.0</td>\n",
       "      <td>Male</td>\n",
       "      <td>No</td>\n",
       "      <td>...</td>\n",
       "      <td>No</td>\n",
       "      <td>No</td>\n",
       "      <td>No</td>\n",
       "      <td>No</td>\n",
       "      <td>No</td>\n",
       "      <td>Yes</td>\n",
       "      <td>Yes</td>\n",
       "      <td>No</td>\n",
       "      <td>0.0</td>\n",
       "      <td>NaN</td>\n",
       "    </tr>\n",
       "    <tr>\n",
       "      <th>1340</th>\n",
       "      <td>1371-DWPAZ</td>\n",
       "      <td>2020-02-01</td>\n",
       "      <td>2020-02-01</td>\n",
       "      <td>Two year</td>\n",
       "      <td>No</td>\n",
       "      <td>Credit card (automatic)</td>\n",
       "      <td>56.05</td>\n",
       "      <td>0.0</td>\n",
       "      <td>Female</td>\n",
       "      <td>No</td>\n",
       "      <td>...</td>\n",
       "      <td>Yes</td>\n",
       "      <td>Yes</td>\n",
       "      <td>Yes</td>\n",
       "      <td>No</td>\n",
       "      <td>Yes</td>\n",
       "      <td>No</td>\n",
       "      <td>No</td>\n",
       "      <td>No</td>\n",
       "      <td>0.0</td>\n",
       "      <td>NaN</td>\n",
       "    </tr>\n",
       "    <tr>\n",
       "      <th>3331</th>\n",
       "      <td>7644-OMVMY</td>\n",
       "      <td>2020-02-01</td>\n",
       "      <td>2020-02-01</td>\n",
       "      <td>Two year</td>\n",
       "      <td>No</td>\n",
       "      <td>Mailed check</td>\n",
       "      <td>19.85</td>\n",
       "      <td>0.0</td>\n",
       "      <td>Male</td>\n",
       "      <td>No</td>\n",
       "      <td>...</td>\n",
       "      <td>No</td>\n",
       "      <td>No</td>\n",
       "      <td>No</td>\n",
       "      <td>No</td>\n",
       "      <td>No</td>\n",
       "      <td>No</td>\n",
       "      <td>Yes</td>\n",
       "      <td>No</td>\n",
       "      <td>0.0</td>\n",
       "      <td>NaN</td>\n",
       "    </tr>\n",
       "    <tr>\n",
       "      <th>3826</th>\n",
       "      <td>3213-VVOLG</td>\n",
       "      <td>2020-02-01</td>\n",
       "      <td>2020-02-01</td>\n",
       "      <td>Two year</td>\n",
       "      <td>No</td>\n",
       "      <td>Mailed check</td>\n",
       "      <td>25.35</td>\n",
       "      <td>0.0</td>\n",
       "      <td>Male</td>\n",
       "      <td>No</td>\n",
       "      <td>...</td>\n",
       "      <td>No</td>\n",
       "      <td>No</td>\n",
       "      <td>No</td>\n",
       "      <td>No</td>\n",
       "      <td>No</td>\n",
       "      <td>Yes</td>\n",
       "      <td>Yes</td>\n",
       "      <td>No</td>\n",
       "      <td>0.0</td>\n",
       "      <td>NaN</td>\n",
       "    </tr>\n",
       "    <tr>\n",
       "      <th>4380</th>\n",
       "      <td>2520-SGTTA</td>\n",
       "      <td>2020-02-01</td>\n",
       "      <td>2020-02-01</td>\n",
       "      <td>Two year</td>\n",
       "      <td>No</td>\n",
       "      <td>Mailed check</td>\n",
       "      <td>20.00</td>\n",
       "      <td>0.0</td>\n",
       "      <td>Female</td>\n",
       "      <td>No</td>\n",
       "      <td>...</td>\n",
       "      <td>No</td>\n",
       "      <td>No</td>\n",
       "      <td>No</td>\n",
       "      <td>No</td>\n",
       "      <td>No</td>\n",
       "      <td>No</td>\n",
       "      <td>Yes</td>\n",
       "      <td>No</td>\n",
       "      <td>0.0</td>\n",
       "      <td>NaN</td>\n",
       "    </tr>\n",
       "    <tr>\n",
       "      <th>5218</th>\n",
       "      <td>2923-ARZLG</td>\n",
       "      <td>2020-02-01</td>\n",
       "      <td>2020-02-01</td>\n",
       "      <td>One year</td>\n",
       "      <td>Yes</td>\n",
       "      <td>Mailed check</td>\n",
       "      <td>19.70</td>\n",
       "      <td>0.0</td>\n",
       "      <td>Male</td>\n",
       "      <td>No</td>\n",
       "      <td>...</td>\n",
       "      <td>No</td>\n",
       "      <td>No</td>\n",
       "      <td>No</td>\n",
       "      <td>No</td>\n",
       "      <td>No</td>\n",
       "      <td>No</td>\n",
       "      <td>Yes</td>\n",
       "      <td>No</td>\n",
       "      <td>0.0</td>\n",
       "      <td>NaN</td>\n",
       "    </tr>\n",
       "    <tr>\n",
       "      <th>6670</th>\n",
       "      <td>4075-WKNIU</td>\n",
       "      <td>2020-02-01</td>\n",
       "      <td>2020-02-01</td>\n",
       "      <td>Two year</td>\n",
       "      <td>No</td>\n",
       "      <td>Mailed check</td>\n",
       "      <td>73.35</td>\n",
       "      <td>0.0</td>\n",
       "      <td>Female</td>\n",
       "      <td>No</td>\n",
       "      <td>...</td>\n",
       "      <td>Yes</td>\n",
       "      <td>Yes</td>\n",
       "      <td>Yes</td>\n",
       "      <td>No</td>\n",
       "      <td>Yes</td>\n",
       "      <td>Yes</td>\n",
       "      <td>Yes</td>\n",
       "      <td>No</td>\n",
       "      <td>0.0</td>\n",
       "      <td>NaN</td>\n",
       "    </tr>\n",
       "    <tr>\n",
       "      <th>6754</th>\n",
       "      <td>2775-SEFEE</td>\n",
       "      <td>2020-02-01</td>\n",
       "      <td>2020-02-01</td>\n",
       "      <td>Two year</td>\n",
       "      <td>Yes</td>\n",
       "      <td>Bank transfer (automatic)</td>\n",
       "      <td>61.90</td>\n",
       "      <td>0.0</td>\n",
       "      <td>Male</td>\n",
       "      <td>No</td>\n",
       "      <td>...</td>\n",
       "      <td>No</td>\n",
       "      <td>Yes</td>\n",
       "      <td>No</td>\n",
       "      <td>No</td>\n",
       "      <td>Yes</td>\n",
       "      <td>Yes</td>\n",
       "      <td>Yes</td>\n",
       "      <td>No</td>\n",
       "      <td>0.0</td>\n",
       "      <td>NaN</td>\n",
       "    </tr>\n",
       "  </tbody>\n",
       "</table>\n",
       "<p>11 rows × 25 columns</p>\n",
       "</div>"
      ],
      "text/plain": [
       "      customerID  BeginDate    EndDate      Type PaperlessBilling  \\\n",
       "488   4472-LVYGI 2020-02-01 2020-02-01  Two year              Yes   \n",
       "753   3115-CZMZD 2020-02-01 2020-02-01  Two year               No   \n",
       "936   5709-LVOEQ 2020-02-01 2020-02-01  Two year               No   \n",
       "1082  4367-NUYAO 2020-02-01 2020-02-01  Two year               No   \n",
       "1340  1371-DWPAZ 2020-02-01 2020-02-01  Two year               No   \n",
       "3331  7644-OMVMY 2020-02-01 2020-02-01  Two year               No   \n",
       "3826  3213-VVOLG 2020-02-01 2020-02-01  Two year               No   \n",
       "4380  2520-SGTTA 2020-02-01 2020-02-01  Two year               No   \n",
       "5218  2923-ARZLG 2020-02-01 2020-02-01  One year              Yes   \n",
       "6670  4075-WKNIU 2020-02-01 2020-02-01  Two year               No   \n",
       "6754  2775-SEFEE 2020-02-01 2020-02-01  Two year              Yes   \n",
       "\n",
       "                  PaymentMethod  MonthlyCharges  TotalCharges  gender  \\\n",
       "488   Bank transfer (automatic)           52.55           0.0  Female   \n",
       "753                Mailed check           20.25           0.0    Male   \n",
       "936                Mailed check           80.85           0.0  Female   \n",
       "1082               Mailed check           25.75           0.0    Male   \n",
       "1340    Credit card (automatic)           56.05           0.0  Female   \n",
       "3331               Mailed check           19.85           0.0    Male   \n",
       "3826               Mailed check           25.35           0.0    Male   \n",
       "4380               Mailed check           20.00           0.0  Female   \n",
       "5218               Mailed check           19.70           0.0    Male   \n",
       "6670               Mailed check           73.35           0.0  Female   \n",
       "6754  Bank transfer (automatic)           61.90           0.0    Male   \n",
       "\n",
       "     SeniorCitizen  ... DeviceProtection TechSupport StreamingTV  \\\n",
       "488             No  ...              Yes         Yes         Yes   \n",
       "753             No  ...               No          No          No   \n",
       "936             No  ...              Yes          No         Yes   \n",
       "1082            No  ...               No          No          No   \n",
       "1340            No  ...              Yes         Yes         Yes   \n",
       "3331            No  ...               No          No          No   \n",
       "3826            No  ...               No          No          No   \n",
       "4380            No  ...               No          No          No   \n",
       "5218            No  ...               No          No          No   \n",
       "6670            No  ...              Yes         Yes         Yes   \n",
       "6754            No  ...               No         Yes          No   \n",
       "\n",
       "     StreamingMovies Internet MultipleLines Phone Exited AVG_coop AVG_check  \n",
       "488               No      Yes            No    No     No      0.0       NaN  \n",
       "753               No       No            No   Yes     No      0.0       NaN  \n",
       "936              Yes      Yes            No   Yes     No      0.0       NaN  \n",
       "1082              No       No           Yes   Yes     No      0.0       NaN  \n",
       "1340              No      Yes            No    No     No      0.0       NaN  \n",
       "3331              No       No            No   Yes     No      0.0       NaN  \n",
       "3826              No       No           Yes   Yes     No      0.0       NaN  \n",
       "4380              No       No            No   Yes     No      0.0       NaN  \n",
       "5218              No       No            No   Yes     No      0.0       NaN  \n",
       "6670              No      Yes           Yes   Yes     No      0.0       NaN  \n",
       "6754              No      Yes           Yes   Yes     No      0.0       NaN  \n",
       "\n",
       "[11 rows x 25 columns]"
      ]
     },
     "execution_count": 35,
     "metadata": {},
     "output_type": "execute_result"
    }
   ],
   "source": [
    "df_full[df_full['AVG_check'].isna()]"
   ]
  },
  {
   "cell_type": "markdown",
   "id": "8aaaa457",
   "metadata": {},
   "source": [
    "Пропуски образовались в отношении клиентов, заключивших контракт в дату среза. Заполним нулями данные пропуски."
   ]
  },
  {
   "cell_type": "code",
   "execution_count": 36,
   "id": "a07dff9c",
   "metadata": {},
   "outputs": [],
   "source": [
    "df_full['AVG_check'] = df_full['AVG_check'].fillna(0)"
   ]
  },
  {
   "cell_type": "code",
   "execution_count": 37,
   "id": "0d610eb5",
   "metadata": {},
   "outputs": [
    {
     "data": {
      "text/html": [
       "<div>\n",
       "<style scoped>\n",
       "    .dataframe tbody tr th:only-of-type {\n",
       "        vertical-align: middle;\n",
       "    }\n",
       "\n",
       "    .dataframe tbody tr th {\n",
       "        vertical-align: top;\n",
       "    }\n",
       "\n",
       "    .dataframe thead th {\n",
       "        text-align: right;\n",
       "    }\n",
       "</style>\n",
       "<table border=\"1\" class=\"dataframe\">\n",
       "  <thead>\n",
       "    <tr style=\"text-align: right;\">\n",
       "      <th></th>\n",
       "      <th>customerID</th>\n",
       "      <th>Type</th>\n",
       "      <th>PaperlessBilling</th>\n",
       "      <th>PaymentMethod</th>\n",
       "      <th>MonthlyCharges</th>\n",
       "      <th>TotalCharges</th>\n",
       "      <th>gender</th>\n",
       "      <th>SeniorCitizen</th>\n",
       "      <th>Partner</th>\n",
       "      <th>Dependents</th>\n",
       "      <th>...</th>\n",
       "      <th>DeviceProtection</th>\n",
       "      <th>TechSupport</th>\n",
       "      <th>StreamingTV</th>\n",
       "      <th>StreamingMovies</th>\n",
       "      <th>Internet</th>\n",
       "      <th>MultipleLines</th>\n",
       "      <th>Phone</th>\n",
       "      <th>Exited</th>\n",
       "      <th>AVG_coop</th>\n",
       "      <th>AVG_check</th>\n",
       "    </tr>\n",
       "  </thead>\n",
       "  <tbody>\n",
       "    <tr>\n",
       "      <th>0</th>\n",
       "      <td>7590-VHVEG</td>\n",
       "      <td>Month-to-month</td>\n",
       "      <td>Yes</td>\n",
       "      <td>Electronic check</td>\n",
       "      <td>29.85</td>\n",
       "      <td>29.85</td>\n",
       "      <td>Female</td>\n",
       "      <td>No</td>\n",
       "      <td>Yes</td>\n",
       "      <td>No</td>\n",
       "      <td>...</td>\n",
       "      <td>No</td>\n",
       "      <td>No</td>\n",
       "      <td>No</td>\n",
       "      <td>No</td>\n",
       "      <td>Yes</td>\n",
       "      <td>No</td>\n",
       "      <td>No</td>\n",
       "      <td>No</td>\n",
       "      <td>31.0</td>\n",
       "      <td>28.89</td>\n",
       "    </tr>\n",
       "    <tr>\n",
       "      <th>1</th>\n",
       "      <td>5575-GNVDE</td>\n",
       "      <td>One year</td>\n",
       "      <td>No</td>\n",
       "      <td>Mailed check</td>\n",
       "      <td>56.95</td>\n",
       "      <td>1889.50</td>\n",
       "      <td>Male</td>\n",
       "      <td>No</td>\n",
       "      <td>No</td>\n",
       "      <td>No</td>\n",
       "      <td>...</td>\n",
       "      <td>Yes</td>\n",
       "      <td>No</td>\n",
       "      <td>No</td>\n",
       "      <td>No</td>\n",
       "      <td>Yes</td>\n",
       "      <td>No</td>\n",
       "      <td>Yes</td>\n",
       "      <td>No</td>\n",
       "      <td>1036.0</td>\n",
       "      <td>54.72</td>\n",
       "    </tr>\n",
       "    <tr>\n",
       "      <th>2</th>\n",
       "      <td>3668-QPYBK</td>\n",
       "      <td>Month-to-month</td>\n",
       "      <td>Yes</td>\n",
       "      <td>Mailed check</td>\n",
       "      <td>53.85</td>\n",
       "      <td>108.15</td>\n",
       "      <td>Male</td>\n",
       "      <td>No</td>\n",
       "      <td>No</td>\n",
       "      <td>No</td>\n",
       "      <td>...</td>\n",
       "      <td>No</td>\n",
       "      <td>No</td>\n",
       "      <td>No</td>\n",
       "      <td>No</td>\n",
       "      <td>Yes</td>\n",
       "      <td>No</td>\n",
       "      <td>Yes</td>\n",
       "      <td>Yes</td>\n",
       "      <td>61.0</td>\n",
       "      <td>53.19</td>\n",
       "    </tr>\n",
       "    <tr>\n",
       "      <th>3</th>\n",
       "      <td>7795-CFOCW</td>\n",
       "      <td>One year</td>\n",
       "      <td>No</td>\n",
       "      <td>Bank transfer (automatic)</td>\n",
       "      <td>42.30</td>\n",
       "      <td>1840.75</td>\n",
       "      <td>Male</td>\n",
       "      <td>No</td>\n",
       "      <td>No</td>\n",
       "      <td>No</td>\n",
       "      <td>...</td>\n",
       "      <td>Yes</td>\n",
       "      <td>Yes</td>\n",
       "      <td>No</td>\n",
       "      <td>No</td>\n",
       "      <td>Yes</td>\n",
       "      <td>No</td>\n",
       "      <td>No</td>\n",
       "      <td>No</td>\n",
       "      <td>1371.0</td>\n",
       "      <td>40.28</td>\n",
       "    </tr>\n",
       "    <tr>\n",
       "      <th>4</th>\n",
       "      <td>9237-HQITU</td>\n",
       "      <td>Month-to-month</td>\n",
       "      <td>Yes</td>\n",
       "      <td>Electronic check</td>\n",
       "      <td>70.70</td>\n",
       "      <td>151.65</td>\n",
       "      <td>Female</td>\n",
       "      <td>No</td>\n",
       "      <td>No</td>\n",
       "      <td>No</td>\n",
       "      <td>...</td>\n",
       "      <td>No</td>\n",
       "      <td>No</td>\n",
       "      <td>No</td>\n",
       "      <td>No</td>\n",
       "      <td>Yes</td>\n",
       "      <td>No</td>\n",
       "      <td>Yes</td>\n",
       "      <td>Yes</td>\n",
       "      <td>61.0</td>\n",
       "      <td>74.58</td>\n",
       "    </tr>\n",
       "  </tbody>\n",
       "</table>\n",
       "<p>5 rows × 23 columns</p>\n",
       "</div>"
      ],
      "text/plain": [
       "   customerID            Type PaperlessBilling              PaymentMethod  \\\n",
       "0  7590-VHVEG  Month-to-month              Yes           Electronic check   \n",
       "1  5575-GNVDE        One year               No               Mailed check   \n",
       "2  3668-QPYBK  Month-to-month              Yes               Mailed check   \n",
       "3  7795-CFOCW        One year               No  Bank transfer (automatic)   \n",
       "4  9237-HQITU  Month-to-month              Yes           Electronic check   \n",
       "\n",
       "   MonthlyCharges  TotalCharges  gender SeniorCitizen Partner Dependents  ...  \\\n",
       "0           29.85         29.85  Female            No     Yes         No  ...   \n",
       "1           56.95       1889.50    Male            No      No         No  ...   \n",
       "2           53.85        108.15    Male            No      No         No  ...   \n",
       "3           42.30       1840.75    Male            No      No         No  ...   \n",
       "4           70.70        151.65  Female            No      No         No  ...   \n",
       "\n",
       "  DeviceProtection TechSupport StreamingTV StreamingMovies Internet  \\\n",
       "0               No          No          No              No      Yes   \n",
       "1              Yes          No          No              No      Yes   \n",
       "2               No          No          No              No      Yes   \n",
       "3              Yes         Yes          No              No      Yes   \n",
       "4               No          No          No              No      Yes   \n",
       "\n",
       "  MultipleLines Phone Exited AVG_coop AVG_check  \n",
       "0            No    No     No     31.0     28.89  \n",
       "1            No   Yes     No   1036.0     54.72  \n",
       "2            No   Yes    Yes     61.0     53.19  \n",
       "3            No    No     No   1371.0     40.28  \n",
       "4            No   Yes    Yes     61.0     74.58  \n",
       "\n",
       "[5 rows x 23 columns]"
      ]
     },
     "execution_count": 37,
     "metadata": {},
     "output_type": "execute_result"
    }
   ],
   "source": [
    "df_full.drop(columns =['EndDate','BeginDate'], axis=1, inplace=True)\n",
    "df_full.head(5)"
   ]
  },
  {
   "cell_type": "code",
   "execution_count": 38,
   "id": "acf3811c",
   "metadata": {},
   "outputs": [
    {
     "name": "stdout",
     "output_type": "stream",
     "text": [
      "<class 'pandas.core.frame.DataFrame'>\n",
      "Int64Index: 7043 entries, 0 to 7042\n",
      "Data columns (total 23 columns):\n",
      " #   Column            Non-Null Count  Dtype  \n",
      "---  ------            --------------  -----  \n",
      " 0   customerID        7043 non-null   object \n",
      " 1   Type              7043 non-null   object \n",
      " 2   PaperlessBilling  7043 non-null   object \n",
      " 3   PaymentMethod     7043 non-null   object \n",
      " 4   MonthlyCharges    7043 non-null   float64\n",
      " 5   TotalCharges      7043 non-null   float64\n",
      " 6   gender            7043 non-null   object \n",
      " 7   SeniorCitizen     7043 non-null   object \n",
      " 8   Partner           7043 non-null   object \n",
      " 9   Dependents        7043 non-null   object \n",
      " 10  InternetService   7043 non-null   object \n",
      " 11  OnlineSecurity    7043 non-null   object \n",
      " 12  OnlineBackup      7043 non-null   object \n",
      " 13  DeviceProtection  7043 non-null   object \n",
      " 14  TechSupport       7043 non-null   object \n",
      " 15  StreamingTV       7043 non-null   object \n",
      " 16  StreamingMovies   7043 non-null   object \n",
      " 17  Internet          7043 non-null   object \n",
      " 18  MultipleLines     7043 non-null   object \n",
      " 19  Phone             7043 non-null   object \n",
      " 20  Exited            7043 non-null   object \n",
      " 21  AVG_coop          7043 non-null   float64\n",
      " 22  AVG_check         7043 non-null   float64\n",
      "dtypes: float64(4), object(19)\n",
      "memory usage: 1.3+ MB\n"
     ]
    }
   ],
   "source": [
    "df_full.info()"
   ]
  },
  {
   "cell_type": "markdown",
   "id": "02e82a98",
   "metadata": {},
   "source": [
    "Итого мы получили таблицу с полным набором доступных признаков в удобных для работы форматах. Дополнительно мы сгенерировали признаки среднего чека и среднего срока работы с клиентом, а также выделили целевой признак (ушел клиент или нет). \n",
    "\n",
    "Проанализируем итоговую таблицу для поиска первичных закономерностей."
   ]
  },
  {
   "cell_type": "markdown",
   "id": "2a12ccbd",
   "metadata": {},
   "source": [
    "### Ручной анализ признаков. Выявление первичных закономерностей по ушедшим клиентам\n",
    "*Проверим, как повлияли на клиента время сотрудничества, услуги, которыми пользовался клиент, откуда уходили больше (телефония/ интернет), тип интернет-соединения и т.п.*\n",
    "\n",
    "Начнем с выяснения баланса целевого класса."
   ]
  },
  {
   "cell_type": "code",
   "execution_count": 39,
   "id": "6db2132c",
   "metadata": {},
   "outputs": [
    {
     "data": {
      "image/png": "[encoded data removed]",
      "text/plain": [
       "<Figure size 2000x1000 with 1 Axes>"
      ]
     },
     "metadata": {},
     "output_type": "display_data"
    },
    {
     "name": "stdout",
     "output_type": "stream",
     "text": [
      "Доля ушедших клиентов:26.54%\n"
     ]
    }
   ],
   "source": [
    "g = df_full.groupby('Exited')['customerID'].count().plot.bar(rot=0, grid=False,figsize = (20,10))\n",
    "g.axes.set_title(\"Количество клиентов в зависимости от статуса\", fontsize=14)\n",
    "g.set_xlabel(\"Статус клиента (Yes - ушел, No - остался)\", fontsize=10)\n",
    "g.set_ylabel(\"Количество клиентов, чел.\", fontsize=10)\n",
    "plt.show()\n",
    "\n",
    "print('Доля ушедших клиентов:{0:.2%}'.format(\n",
    "    df_full.loc[df_full['Exited']=='Yes']['customerID'].count()/len(df_full['Exited']))\n",
    "     )"
   ]
  },
  {
   "cell_type": "markdown",
   "id": "83484a7f",
   "metadata": {},
   "source": [
    "Ожидаемо наблюдается перекос в пользу действующих клиентов, однако стоит отметить, что 26% от общего числа базы покинули провайдера, т.е. каждый 4й клиент. Посмотрим, как распределяется среди оставшихся и ушедших клиентов пользование услугами телефонии и интернета."
   ]
  },
  {
   "cell_type": "code",
   "execution_count": 40,
   "id": "7a1fceea",
   "metadata": {},
   "outputs": [
    {
     "data": {
      "image/png": "[encoded data removed]",
      "text/plain": [
       "<Figure size 2000x1000 with 1 Axes>"
      ]
     },
     "metadata": {},
     "output_type": "display_data"
    }
   ],
   "source": [
    "g = df_full.pivot_table(\n",
    "    index = 'Exited',\n",
    "    columns = 'Internet',\n",
    "    values = 'customerID',\n",
    "    aggfunc='count').plot.bar(rot=0, grid=False,figsize = (20,10),stacked = True)\n",
    "g.axes.set_title(\"Распределение клиентов по статусу\", fontsize=14)\n",
    "g.set_xlabel(\"Статус клиента (Yes - ушел, No - остался)\", fontsize=10)\n",
    "g.set_ylabel(\"Среднее время сотрудничества\", fontsize=10)\n",
    "plt.legend([\"Телефония\",'Интернет'])\n",
    "plt.show()"
   ]
  },
  {
   "cell_type": "markdown",
   "id": "dad12086",
   "metadata": {},
   "source": [
    "Из диаграммы выше нетрудно заметить:\n",
    "1. Основной потребляемой услугой является интернет;\n",
    "2. Среди покинувших компанию потребителей, абсолютное большинство пользовалось интернетом."
   ]
  },
  {
   "cell_type": "code",
   "execution_count": 41,
   "id": "db62249d",
   "metadata": {},
   "outputs": [
    {
     "name": "stdout",
     "output_type": "stream",
     "text": [
      "Доля тех, кто не пользовался интернетом, среди ушедших клиентов:1.60%\n"
     ]
    }
   ],
   "source": [
    "print('Доля тех, кто не пользовался интернетом, среди ушедших клиентов:{0:.2%}'.format(\n",
    "    df_full.query('Exited ==  \"Yes\" & Internet == \"No\"')['customerID'].count()/len(df_full['Exited']))\n",
    "     )"
   ]
  },
  {
   "cell_type": "markdown",
   "id": "b60a4725",
   "metadata": {},
   "source": [
    "Рассмотрим глубже разницу между пользователями интернета из лояльных и нелояльных клиентов. Выясним, каким именно типом интернета они пользовались."
   ]
  },
  {
   "cell_type": "code",
   "execution_count": 42,
   "id": "711aded9",
   "metadata": {},
   "outputs": [
    {
     "data": {
      "image/png": "[encoded data removed]",
      "text/plain": [
       "<Figure size 2000x1000 with 1 Axes>"
      ]
     },
     "metadata": {},
     "output_type": "display_data"
    }
   ],
   "source": [
    "int_df = df_full.query('Internet == \"Yes\"')\n",
    "\n",
    "g = int_df.pivot_table(\n",
    "    index = 'Exited',\n",
    "    columns = 'InternetService',\n",
    "    values = 'customerID',\n",
    "    aggfunc='count').plot.bar(rot=0, grid=False,figsize = (20,10),stacked = True)\n",
    "g.axes.set_title(\"Распределение пользователей интернета по статусу\", fontsize=14)\n",
    "g.set_xlabel(\"Статус клиента (Yes - ушел, No - остался)\", fontsize=10)\n",
    "g.set_ylabel(\"Среднее время сотрудничества\", fontsize=10)\n",
    "\n",
    "plt.show()"
   ]
  },
  {
   "cell_type": "markdown",
   "id": "5fc36e1a",
   "metadata": {},
   "source": [
    "Неожиданно пользователи оптики  превалируют в числе клиентов, отказавшихся от услуг компании, несмотря на то, что эта линия должна отличаться лучшим качеством и высокой скоростью.\n",
    "В числе лояльных клиентов распределение почти поровну, с небольшим перевесом традиционного типа кабелей.\n",
    "\n",
    "Продолжим анализ пользователей интернета, какими услугами в рамках интернет-подключений пользовались клиенты."
   ]
  },
  {
   "cell_type": "code",
   "execution_count": 43,
   "id": "d7616cb2",
   "metadata": {},
   "outputs": [],
   "source": [
    "def pivot_plot (df, column):\n",
    "    g = df.pivot_table(\n",
    "        index = 'Exited',\n",
    "        columns = column,\n",
    "        values = 'customerID',\n",
    "        aggfunc='count').plot.bar(rot=0, grid=False,figsize = (5,4),stacked = True)\n",
    "    g.set_xlabel(\"Статус клиента (Yes - ушел, No - остался)\", fontsize=10)\n",
    "   \n",
    "    plt.show() "
   ]
  },
  {
   "cell_type": "code",
   "execution_count": 44,
   "id": "d84f33f1",
   "metadata": {
    "scrolled": false
   },
   "outputs": [
    {
     "data": {
      "image/png": "[encoded data removed]",
      "text/plain": [
       "<Figure size 500x400 with 1 Axes>"
      ]
     },
     "metadata": {},
     "output_type": "display_data"
    },
    {
     "data": {
      "image/png": "[encoded data removed]",
      "text/plain": [
       "<Figure size 500x400 with 1 Axes>"
      ]
     },
     "metadata": {},
     "output_type": "display_data"
    },
    {
     "data": {
      "image/png": "[encoded data removed]",
      "text/plain": [
       "<Figure size 500x400 with 1 Axes>"
      ]
     },
     "metadata": {},
     "output_type": "display_data"
    },
    {
     "data": {
      "image/png": "[encoded data removed]",
      "text/plain": [
       "<Figure size 500x400 with 1 Axes>"
      ]
     },
     "metadata": {},
     "output_type": "display_data"
    },
    {
     "data": {
      "image/png": "[encoded data removed]",
      "text/plain": [
       "<Figure size 500x400 with 1 Axes>"
      ]
     },
     "metadata": {},
     "output_type": "display_data"
    }
   ],
   "source": [
    "internet_features = df_full.columns[12:17]\n",
    " \n",
    "for f in internet_features:\n",
    "    pivot_plot(int_df,f)"
   ]
  },
  {
   "cell_type": "markdown",
   "id": "1e7a0fc8",
   "metadata": {},
   "source": [
    "Из диаграмм выше видно, что стриминговые сервисы одинаково популярны что у лояльных клиентов, что у ушедших. А вот техподдержкой, онлайн-бэкапом и защитой устройств ушедшие клиенты практически не пользовались.\n",
    "\n",
    "\n",
    "Разберем теперь гендерно-семейный состав."
   ]
  },
  {
   "cell_type": "code",
   "execution_count": 45,
   "id": "2d6ec895",
   "metadata": {
    "scrolled": false
   },
   "outputs": [
    {
     "data": {
      "image/png": "[encoded data removed]",
      "text/plain": [
       "<Figure size 500x400 with 1 Axes>"
      ]
     },
     "metadata": {},
     "output_type": "display_data"
    },
    {
     "data": {
      "image/png": "[encoded data removed]",
      "text/plain": [
       "<Figure size 500x400 with 1 Axes>"
      ]
     },
     "metadata": {},
     "output_type": "display_data"
    },
    {
     "data": {
      "image/png": "[encoded data removed]",
      "text/plain": [
       "<Figure size 500x400 with 1 Axes>"
      ]
     },
     "metadata": {},
     "output_type": "display_data"
    },
    {
     "data": {
      "image/png": "[encoded data removed]",
      "text/plain": [
       "<Figure size 500x400 with 1 Axes>"
      ]
     },
     "metadata": {},
     "output_type": "display_data"
    }
   ],
   "source": [
    "personal_info = df_full.columns[6:10]\n",
    " \n",
    "for i in personal_info:\n",
    "    pivot_plot(df_full,i)"
   ]
  },
  {
   "cell_type": "markdown",
   "id": "16b9326d",
   "metadata": {},
   "source": [
    "Распределение по возрасту и полу в обеих группах (лояльные/нелояльные) одинаково. А вот прочие данные говорят нам о том, что большая часть покинувших компанию клиентов одиноки и без детей. Правда, еще остается вероятность, что они не захотели раскрывать реальные данные о семье.\n",
    "\n",
    "Наконец, перейдем к анализу срока сотрудничества и финансовым вопросам: типу оплаты и среднемесячным затратам за время сотрудничества."
   ]
  },
  {
   "cell_type": "code",
   "execution_count": 46,
   "id": "dbc7a56a",
   "metadata": {
    "scrolled": false
   },
   "outputs": [
    {
     "data": {
      "image/png": "[encoded data removed]",
      "text/plain": [
       "<Figure size 1000x500 with 1 Axes>"
      ]
     },
     "metadata": {},
     "output_type": "display_data"
    },
    {
     "data": {
      "image/png": "[encoded data removed]",
      "text/plain": [
       "<Figure size 1000x500 with 1 Axes>"
      ]
     },
     "metadata": {},
     "output_type": "display_data"
    }
   ],
   "source": [
    "\n",
    "g = df_full.query('Exited ==  \"Yes\"').pivot_table(\n",
    "    index = 'Type',\n",
    "    values ='customerID',\n",
    "    aggfunc='count').plot(kind='pie',subplots=True,\n",
    "                                  title = \"Распределение срока договора у ушедших клиентов\", figsize=(10,5))\n",
    "\n",
    "h = df_full.query('Exited == \"No\"').pivot_table(\n",
    "    index = 'Type',\n",
    "    values ='customerID',\n",
    "    aggfunc='count').plot(kind='pie',subplots=True,\n",
    "                                  title = \"Распределение срока договора у лояльных клиентов\", figsize=(10,5))\n",
    "\n",
    "plt.show()"
   ]
  },
  {
   "cell_type": "code",
   "execution_count": 47,
   "id": "a309b70d",
   "metadata": {},
   "outputs": [
    {
     "name": "stderr",
     "output_type": "stream",
     "text": [
      "/opt/anaconda3/lib/python3.9/site-packages/seaborn/axisgrid.py:712: UserWarning: Using the barplot function without specifying `order` is likely to produce an incorrect plot.\n",
      "  warnings.warn(warning)\n"
     ]
    },
    {
     "data": {
      "image/png": "[encoded data removed]",
      "text/plain": [
       "<Figure size 900x600 with 4 Axes>"
      ]
     },
     "metadata": {},
     "output_type": "display_data"
    }
   ],
   "source": [
    "g = sns.FacetGrid(df_full, col=\"PaymentMethod\", hue=\"PaymentMethod\", col_wrap=3)\n",
    "g.map(sns.barplot, 'Exited','AVG_coop')\n",
    "plt.subplots_adjust(top=1)\n",
    "g.fig.suptitle('Распределение по способу оплаты и среднему сроку сотрудничества', y=1.2)\n",
    "\n",
    "\n",
    "g.set (xlabel='Статус клиента',\n",
    " ylabel='Среднее время сотрудничества, мес')\n",
    "plt.show()"
   ]
  },
  {
   "cell_type": "code",
   "execution_count": 48,
   "id": "f74528aa",
   "metadata": {
    "scrolled": false
   },
   "outputs": [
    {
     "name": "stderr",
     "output_type": "stream",
     "text": [
      "/opt/anaconda3/lib/python3.9/site-packages/seaborn/axisgrid.py:712: UserWarning: Using the barplot function without specifying `order` is likely to produce an incorrect plot.\n",
      "  warnings.warn(warning)\n"
     ]
    },
    {
     "data": {
      "image/png": "[encoded data removed]",
      "text/plain": [
       "<Figure size 900x300 with 3 Axes>"
      ]
     },
     "metadata": {},
     "output_type": "display_data"
    }
   ],
   "source": [
    "g = sns.FacetGrid(df_full, col=\"Type\", hue=\"Type\", col_wrap=3)\n",
    "g.map(sns.barplot, 'Exited','AVG_check')\n",
    "plt.subplots_adjust(top=1)\n",
    "g.fig.suptitle('Распределение по периоду оплаты и среднемесячному чеку за весь период сотрудничества', y=1.2)\n",
    "\n",
    "\n",
    "g.set (xlabel='Статус клиента',\n",
    " ylabel='Средний чек, долларов')\n",
    "plt.show()"
   ]
  },
  {
   "cell_type": "markdown",
   "id": "19d1ff6f",
   "metadata": {},
   "source": [
    "Выводы, котоыре можно сделать из вышеуказанных диаграмм:\n",
    "1. Абсолютное большиство ушедших клиентов пользовались помесячными тарифами;\n",
    "2. Средний чек всех ушедших абонентов был выше, чем у лояльных.\n",
    "\n",
    "Как видно из диаграмм, средний чек *ушедших* клиентов, которые заключали долгосрочные (от года) контракты, выше, чем у клиентов, кто платил и платит помесячно и значительно (до четверти чека) выше, чем у лояльных клиентов.  Вместе с тем, такие клиенты, как показали графики выше, такие клиенты пользовались меньшим объемом услуг (не пользовались защитой и онлайн-техподдержкой). **Следовательно, сама абоненская плата у ушедших клиентов была выше.** При этом у оставшихся абонентов средний чек практически идентичен при любом типе оплаты.\n",
    "\n",
    "Последний существенный фактор, не охваченный нашим анализом - время сотрудничества."
   ]
  },
  {
   "cell_type": "code",
   "execution_count": 49,
   "id": "4705bff0",
   "metadata": {},
   "outputs": [
    {
     "data": {
      "image/png": "[encoded data removed]",
      "text/plain": [
       "<Figure size 1000x500 with 1 Axes>"
      ]
     },
     "metadata": {},
     "output_type": "display_data"
    }
   ],
   "source": [
    "plt.figure(figsize=[10,5])\n",
    "\n",
    "plt.hist(df_full.query('Exited ==  \"Yes\"')['AVG_coop'], bins=100, label = 'Ушедшие клиенты', alpha=.4)\n",
    "plt.hist(df_full.query('Exited == \"No\"')['AVG_coop'], bins=100, label = 'Оставшиеся клиенты', alpha=.4)\n",
    "\n",
    "plt.xlabel(\"Среднее время сотрудничества\")\n",
    "plt.ylabel(\"Количество значений\")\n",
    "plt.xticks(range(0,2200,200))\n",
    "\n",
    "plt.legend(loc='upper left', fontsize='large')\n",
    "\n",
    "plt.title(\"Гистограмма распределения времени сотрудничества\")\n",
    "plt.show()"
   ]
  },
  {
   "cell_type": "code",
   "execution_count": 50,
   "id": "b03ad72d",
   "metadata": {},
   "outputs": [
    {
     "data": {
      "image/png": "[encoded data removed]",
      "text/plain": [
       "<Figure size 600x300 with 2 Axes>"
      ]
     },
     "metadata": {},
     "output_type": "display_data"
    }
   ],
   "source": [
    "g = sns.FacetGrid(df_full, col=\"Exited\", hue=\"Exited\", col_wrap=2)\n",
    "g.map(sns.lineplot, 'AVG_check', 'AVG_coop')\n",
    "plt.subplots_adjust(top=1)\n",
    "g.fig.suptitle('Зависимость времени сотрудничества и среднего чека',y=1.2)\n",
    "g.set_axis_labels(\"Средний чек\",\n",
    "                  \"Среднее время сотрудничества, мес.\");\n",
    "plt.show()"
   ]
  },
  {
   "cell_type": "markdown",
   "id": "d163df61",
   "metadata": {},
   "source": [
    "Большая часть ушедших клиентов имеет крайне небольшой срок сотрудничества с оператором (в пределах 5 месяцев), в то время как оставшиеся клиенты отличаются долговременной лольностью.\n",
    "\n",
    "Таким образом, на текущий момент вырисовывается следующий портрет ушедшего клиента:\n",
    "1. Скорее молод, одинок и без детей\n",
    "2. Пользуется только основными функциями интернет-соединения наравне с остальными\n",
    "3. Приобретал преимущественно дорогой ежемесячный тариф (или приобретал его без промокода, что идентично)\n",
    "4. Отказался от услуг провайдера менее чем через полгода. Тут можно было бы предположить, что клиент ушел в пользу более дешевого провайдера, но, с учетом того, что такие клиенты не пользовались услугами техподдержки, для проверки такой гипотезы требуется как минимум исключить вероятность частых поломок на сети."
   ]
  },
  {
   "cell_type": "markdown",
   "id": "1231ec51",
   "metadata": {},
   "source": [
    "Перед выделением выборки и сохранением некоторого числа признаков проверим численные признаки на корреляцию."
   ]
  },
  {
   "cell_type": "code",
   "execution_count": 51,
   "id": "0ffd0519",
   "metadata": {},
   "outputs": [
    {
     "data": {
      "text/html": [
       "<div>\n",
       "<style scoped>\n",
       "    .dataframe tbody tr th:only-of-type {\n",
       "        vertical-align: middle;\n",
       "    }\n",
       "\n",
       "    .dataframe tbody tr th {\n",
       "        vertical-align: top;\n",
       "    }\n",
       "\n",
       "    .dataframe thead th {\n",
       "        text-align: right;\n",
       "    }\n",
       "</style>\n",
       "<table border=\"1\" class=\"dataframe\">\n",
       "  <thead>\n",
       "    <tr style=\"text-align: right;\">\n",
       "      <th></th>\n",
       "      <th>MonthlyCharges</th>\n",
       "      <th>TotalCharges</th>\n",
       "      <th>AVG_coop</th>\n",
       "      <th>AVG_check</th>\n",
       "    </tr>\n",
       "  </thead>\n",
       "  <tbody>\n",
       "    <tr>\n",
       "      <th>MonthlyCharges</th>\n",
       "      <td>1.000000</td>\n",
       "      <td>0.651174</td>\n",
       "      <td>0.247754</td>\n",
       "      <td>0.994323</td>\n",
       "    </tr>\n",
       "    <tr>\n",
       "      <th>TotalCharges</th>\n",
       "      <td>0.651174</td>\n",
       "      <td>1.000000</td>\n",
       "      <td>0.826109</td>\n",
       "      <td>0.654176</td>\n",
       "    </tr>\n",
       "    <tr>\n",
       "      <th>AVG_coop</th>\n",
       "      <td>0.247754</td>\n",
       "      <td>0.826109</td>\n",
       "      <td>1.000000</td>\n",
       "      <td>0.252893</td>\n",
       "    </tr>\n",
       "    <tr>\n",
       "      <th>AVG_check</th>\n",
       "      <td>0.994323</td>\n",
       "      <td>0.654176</td>\n",
       "      <td>0.252893</td>\n",
       "      <td>1.000000</td>\n",
       "    </tr>\n",
       "  </tbody>\n",
       "</table>\n",
       "</div>"
      ],
      "text/plain": [
       "                MonthlyCharges  TotalCharges  AVG_coop  AVG_check\n",
       "MonthlyCharges        1.000000      0.651174  0.247754   0.994323\n",
       "TotalCharges          0.651174      1.000000  0.826109   0.654176\n",
       "AVG_coop              0.247754      0.826109  1.000000   0.252893\n",
       "AVG_check             0.994323      0.654176  0.252893   1.000000"
      ]
     },
     "execution_count": 51,
     "metadata": {},
     "output_type": "execute_result"
    }
   ],
   "source": [
    "df_full.corr()"
   ]
  },
  {
   "cell_type": "markdown",
   "id": "c9902789",
   "metadata": {},
   "source": [
    "Логичным образом между собой достаточно сильно коррелируют `TotalCharges`,`AVG_coop`, `AVG_check` и `MonthlyCharges`. Последние два крайне близки друг к другу по причине того, что месячная абоненская плата за интернет является основной суммой платежей для компании, согласно анализу выше (интернет - это основная услуга).\n",
    "\n",
    "В следующем шаге удалим столбцы `TotalCharges` и `MonthlyCharges`, т.к. фактически дублирующие признаки ухудшат модель."
   ]
  },
  {
   "cell_type": "markdown",
   "id": "4b71f8cd",
   "metadata": {},
   "source": [
    "### Выделение тестовой выборки (25%)\n",
    "\n",
    "Выделим тестовую выборку с соблюдением соотношения классов. Одновременно удалим данные о персональном идентификаторе клиента, а также столбцы `TotalCharges` и `MonthlyCharges`.\n",
    "\n",
    "Зафиксируем сразу random_state для всей работы."
   ]
  },
  {
   "cell_type": "code",
   "execution_count": 52,
   "id": "a0d9a3c9",
   "metadata": {},
   "outputs": [],
   "source": [
    "random_state = 130223"
   ]
  },
  {
   "cell_type": "code",
   "execution_count": 53,
   "id": "713c5f92",
   "metadata": {},
   "outputs": [],
   "source": [
    "target = df_full['Exited']\n",
    "features = df_full.drop(['Exited', 'customerID', 'TotalCharges', 'MonthlyCharges'], axis=1)\n",
    "features_train, features_test, target_train, target_test = train_test_split(\n",
    "    features, target, test_size=0.25, random_state=random_state, stratify = target)"
   ]
  },
  {
   "cell_type": "markdown",
   "id": "7ea1aec8",
   "metadata": {},
   "source": [
    "### Выделение финального набор признаков для обучения модели, кодирование и масштабирование признаков под разные типы моделей."
   ]
  },
  {
   "cell_type": "markdown",
   "id": "2616b37f",
   "metadata": {},
   "source": [
    "В целом признаков у нас не очень много, датасет небольшой, поэтому рискнем оставить данные \"как есть\".\n",
    "\n",
    "Подготовим кодирование признаков. Используем метод OHE (One-hot Encoding) для кодирования категориальных небинарных признаков, масштабировать числовые признаки не будем, у нас относительно небольшой разброс значений по ним (от 0 до 150). Метод OHE подойдет как для линейных моделей, так и для RandomForest, т.к. у нас отсутствуют категориальные признаки с большим диапазоном значений."
   ]
  },
  {
   "cell_type": "code",
   "execution_count": 54,
   "id": "654c0c02",
   "metadata": {
    "scrolled": false
   },
   "outputs": [
    {
     "name": "stdout",
     "output_type": "stream",
     "text": [
      "<class 'pandas.core.frame.DataFrame'>\n",
      "Int64Index: 5282 entries, 6813 to 6668\n",
      "Data columns (total 19 columns):\n",
      " #   Column            Non-Null Count  Dtype  \n",
      "---  ------            --------------  -----  \n",
      " 0   Type              5282 non-null   object \n",
      " 1   PaperlessBilling  5282 non-null   object \n",
      " 2   PaymentMethod     5282 non-null   object \n",
      " 3   gender            5282 non-null   object \n",
      " 4   SeniorCitizen     5282 non-null   object \n",
      " 5   Partner           5282 non-null   object \n",
      " 6   Dependents        5282 non-null   object \n",
      " 7   InternetService   5282 non-null   object \n",
      " 8   OnlineSecurity    5282 non-null   object \n",
      " 9   OnlineBackup      5282 non-null   object \n",
      " 10  DeviceProtection  5282 non-null   object \n",
      " 11  TechSupport       5282 non-null   object \n",
      " 12  StreamingTV       5282 non-null   object \n",
      " 13  StreamingMovies   5282 non-null   object \n",
      " 14  Internet          5282 non-null   object \n",
      " 15  MultipleLines     5282 non-null   object \n",
      " 16  Phone             5282 non-null   object \n",
      " 17  AVG_coop          5282 non-null   float64\n",
      " 18  AVG_check         5282 non-null   float64\n",
      "dtypes: float64(2), object(17)\n",
      "memory usage: 825.3+ KB\n"
     ]
    }
   ],
   "source": [
    "features_train.info()"
   ]
  },
  {
   "cell_type": "code",
   "execution_count": 55,
   "id": "5e0d8a6b",
   "metadata": {},
   "outputs": [
    {
     "name": "stdout",
     "output_type": "stream",
     "text": [
      "['Type', 'PaperlessBilling', 'PaymentMethod', 'gender', 'SeniorCitizen', 'Partner', 'Dependents', 'InternetService', 'OnlineSecurity', 'OnlineBackup', 'DeviceProtection', 'TechSupport', 'StreamingTV', 'StreamingMovies', 'Internet', 'MultipleLines', 'Phone']\n"
     ]
    }
   ],
   "source": [
    "#категориальные признаки\n",
    "cat_features = features_train.select_dtypes(include='object').columns.to_list()\n",
    "print(cat_features)"
   ]
  },
  {
   "cell_type": "code",
   "execution_count": 56,
   "id": "fcd5d92c",
   "metadata": {},
   "outputs": [
    {
     "name": "stdout",
     "output_type": "stream",
     "text": [
      "['AVG_coop', 'AVG_check']\n"
     ]
    }
   ],
   "source": [
    "#численные признаки\n",
    "num_features = features_train.select_dtypes(include='float64').columns.to_list()\n",
    "print(num_features)"
   ]
  },
  {
   "cell_type": "code",
   "execution_count": 57,
   "id": "184eda5b",
   "metadata": {},
   "outputs": [],
   "source": [
    "features_train_ohe = features_train.copy()"
   ]
  },
  {
   "cell_type": "markdown",
   "id": "e161caa7",
   "metadata": {},
   "source": [
    "Итак мы выделили категориальные и численные признаки для дальнейшего использования. Кодирование будем применять внутри общей функции для обучения базовых моделей (с помощью pipline)."
   ]
  },
  {
   "cell_type": "markdown",
   "id": "836e50ac",
   "metadata": {},
   "source": [
    "Итак мы получили закодированную тренировочную выборку, тестовую выборку не будем пока преобразовывать, т.к. у нас нет пока понимания, какие модели будут наиболее успешными для нашей задачи."
   ]
  },
  {
   "cell_type": "markdown",
   "id": "3116dea5",
   "metadata": {},
   "source": [
    "## Обучение разных типов моделей, выбор итоговой модели."
   ]
  },
  {
   "cell_type": "markdown",
   "id": "9fccd984",
   "metadata": {},
   "source": [
    "### Обучение логистической регрессии и случайного леса\n",
    "Напишем функцию для тестирования базовых моделей. Для борьбы с дисбалансом будем использовать балансироваку классов, встроенную в модели, а также включим кодирование признаков. Масштабирование признаков для модели решающего дерева не применяется, т.к. у нас все численные признаки сопоставимого масштаба."
   ]
  },
  {
   "cell_type": "code",
   "execution_count": 58,
   "id": "3c0b8f72",
   "metadata": {},
   "outputs": [],
   "source": [
    "# создадим список значений моделей.\n",
    "values_list = []"
   ]
  },
  {
   "cell_type": "code",
   "execution_count": 59,
   "id": "eb6e739d",
   "metadata": {},
   "outputs": [],
   "source": [
    "def make_some_pipe (model_name, model, parameters, features_train, target_train):\n",
    "    \n",
    "    col_transformer_ohe = make_column_transformer(\n",
    "        (OneHotEncoder(drop='first', handle_unknown='ignore'),\n",
    "        cat_features\n",
    "    ),\n",
    "    remainder='passthrough',\n",
    "    verbose_feature_names_out=False\n",
    "    )\n",
    "    \n",
    "    pipeline = make_pipeline_imb(col_transformer_ohe,\n",
    "                                 shuffle(random_state=random_state),\n",
    "                                 model\n",
    "                                )\n",
    "    gs = GridSearchCV(pipeline, parameters, n_jobs=-1, cv=5, scoring = 'roc_auc')\n",
    "    print('\\nEstimator: %s' % model_name)\n",
    "    gs.fit(features_train, target_train)\n",
    "    print('Best training roc_auc: %.3f' % gs.best_score_)\n",
    "    values_list.append (gs.best_score_)\n",
    "    dump_file = 'best_estimator.pkl'\n",
    "    joblib.dump(gs.best_estimator_, dump_file, compress=1)\n",
    "    print('\\nSaved %s grid search pipeline to file: %s' % (model_name, dump_file))"
   ]
  },
  {
   "cell_type": "code",
   "execution_count": 60,
   "id": "ae9cf902",
   "metadata": {},
   "outputs": [
    {
     "name": "stdout",
     "output_type": "stream",
     "text": [
      "\n",
      "Estimator: LogisticRegression\n",
      "Best training roc_auc: 0.844\n",
      "\n",
      "Saved LogisticRegression grid search pipeline to file: best_estimator.pkl\n",
      "CPU times: user 299 ms, sys: 170 ms, total: 469 ms\n",
      "Wall time: 3.13 s\n"
     ]
    }
   ],
   "source": [
    "%%time\n",
    "make_some_pipe(model_name = 'LogisticRegression',\n",
    "               model = LogisticRegression(\n",
    "                   random_state=random_state,max_iter=10000,class_weight = 'balanced'\n",
    "               ),\n",
    "               parameters = [\n",
    "                   {'logisticregression__solver':['liblinear'],\n",
    "                   'logisticregression__penalty':['l1','l2'],\n",
    "                   'logisticregression__C':[3.0, 0.5]}\n",
    "                    ],\n",
    "               features_train = features_train,\n",
    "               target_train = target_train)"
   ]
  },
  {
   "cell_type": "code",
   "execution_count": 61,
   "id": "4500e05e",
   "metadata": {},
   "outputs": [
    {
     "data": {
      "text/plain": [
       "['model_reg.pkl']"
      ]
     },
     "execution_count": 61,
     "metadata": {},
     "output_type": "execute_result"
    }
   ],
   "source": [
    "model_reg = joblib.load('best_estimator.pkl')\n",
    "joblib.dump(model_reg, 'model_reg.pkl', compress=1)"
   ]
  },
  {
   "cell_type": "code",
   "execution_count": 62,
   "id": "b4052c97",
   "metadata": {
    "scrolled": false
   },
   "outputs": [
    {
     "name": "stdout",
     "output_type": "stream",
     "text": [
      "\n",
      "Estimator: RandomForestClassifier\n",
      "Best training roc_auc: 0.857\n",
      "\n",
      "Saved RandomForestClassifier grid search pipeline to file: best_estimator.pkl\n",
      "CPU times: user 21.7 s, sys: 1.05 s, total: 22.7 s\n",
      "Wall time: 2min 35s\n"
     ]
    }
   ],
   "source": [
    "%%time\n",
    "make_some_pipe(model_name = 'RandomForestClassifier',\n",
    "               model = RandomForestClassifier(random_state=random_state, class_weight = 'balanced'),\n",
    "               parameters = [\n",
    "                   {'randomforestclassifier__n_estimators': range (10, 150, 10),\n",
    "                    'randomforestclassifier__max_depth': range(1,10,1),\n",
    "                    'randomforestclassifier__min_samples_split': range(2,11)}],\n",
    "               features_train = features_train,\n",
    "               target_train = target_train)"
   ]
  },
  {
   "cell_type": "code",
   "execution_count": 63,
   "id": "4ad1e720",
   "metadata": {},
   "outputs": [
    {
     "data": {
      "text/plain": [
       "['model_forest.pkl']"
      ]
     },
     "execution_count": 63,
     "metadata": {},
     "output_type": "execute_result"
    }
   ],
   "source": [
    "model_forest = joblib.load('best_estimator.pkl')\n",
    "joblib.dump(model_forest, 'model_forest.pkl', compress=1)"
   ]
  },
  {
   "cell_type": "markdown",
   "id": "846e3379",
   "metadata": {},
   "source": [
    "### Тестирование моделей градиентного бустинга\n",
    "\n",
    "Проверим предсказательную способность моделей градиентного бустинга LGBM и CatBoost."
   ]
  },
  {
   "cell_type": "markdown",
   "id": "04eb8cc2",
   "metadata": {},
   "source": [
    "Напишем для них отдельную функцию без OHE и начнем работу с CatBoost."
   ]
  },
  {
   "cell_type": "code",
   "execution_count": 64,
   "id": "d8b93b21",
   "metadata": {},
   "outputs": [],
   "source": [
    "def learning_boost (model_name,empty_model,parametrs,features, target):\n",
    "    grid = GridSearchCV(empty_model,\n",
    "                    parametrs,\n",
    "                    cv=5,\n",
    "                    scoring='roc_auc', n_jobs=-1)\n",
    "    grid.fit(features, target)\n",
    "    model = grid.best_estimator_\n",
    "    print('Best training roc_auc: %.3f' % grid.best_score_)\n",
    "    values_list.append (grid.best_score_)\n",
    "    dump_file = 'best_estimator.pkl'\n",
    "    joblib.dump(grid.best_estimator_, dump_file, compress=1)\n",
    "    print('\\nSaved %s grid search pipeline to file: %s' % (model_name, dump_file))"
   ]
  },
  {
   "cell_type": "code",
   "execution_count": 65,
   "id": "776280cf",
   "metadata": {},
   "outputs": [
    {
     "name": "stdout",
     "output_type": "stream",
     "text": [
      "CPU times: user 2 µs, sys: 0 ns, total: 2 µs\n",
      "Wall time: 4.05 µs\n",
      "Best training roc_auc: 0.884\n",
      "\n",
      "Saved CatBoost grid search pipeline to file: best_estimator.pkl\n"
     ]
    }
   ],
   "source": [
    "%time\n",
    "learning_boost(\n",
    "    model_name = 'CatBoost',\n",
    "    empty_model = CatBoostClassifier(\n",
    "        random_state=random_state,\n",
    "        verbose=False,\n",
    "        cat_features = cat_features),\n",
    "    parametrs = [{\n",
    "        'n_estimators': range (500,800,100),\n",
    "        'max_depth':(1,10),\n",
    "        'learning_rate':(0.01, 0.1, 0.09),\n",
    "        'reg_lambda':(3,4,5),\n",
    "        'auto_class_weights':['Balanced','SqrtBalanced']}],\n",
    "    features = features_train, \n",
    "    target = target_train)"
   ]
  },
  {
   "cell_type": "code",
   "execution_count": 66,
   "id": "dc81968d",
   "metadata": {
    "scrolled": true
   },
   "outputs": [
    {
     "data": {
      "text/plain": [
       "['model_catboost.pkl']"
      ]
     },
     "execution_count": 66,
     "metadata": {},
     "output_type": "execute_result"
    }
   ],
   "source": [
    "model_catboost = joblib.load('best_estimator.pkl')\n",
    "joblib.dump(model_catboost, 'model_catboost.pkl', compress=1)"
   ]
  },
  {
   "cell_type": "markdown",
   "id": "f07ea61e",
   "metadata": {},
   "source": [
    "Перейдем к LightGBM. Приницип организации работы аналогичен прошлым шагам, за исключением того, что перед обучением **мы поменяем тип категориальных признаков с object на category**."
   ]
  },
  {
   "cell_type": "code",
   "execution_count": 67,
   "id": "7fbd79b1",
   "metadata": {},
   "outputs": [
    {
     "name": "stdout",
     "output_type": "stream",
     "text": [
      "<class 'pandas.core.frame.DataFrame'>\n",
      "Int64Index: 5282 entries, 6813 to 6668\n",
      "Data columns (total 19 columns):\n",
      " #   Column            Non-Null Count  Dtype   \n",
      "---  ------            --------------  -----   \n",
      " 0   Type              5282 non-null   category\n",
      " 1   PaperlessBilling  5282 non-null   category\n",
      " 2   PaymentMethod     5282 non-null   category\n",
      " 3   gender            5282 non-null   category\n",
      " 4   SeniorCitizen     5282 non-null   category\n",
      " 5   Partner           5282 non-null   category\n",
      " 6   Dependents        5282 non-null   category\n",
      " 7   InternetService   5282 non-null   category\n",
      " 8   OnlineSecurity    5282 non-null   category\n",
      " 9   OnlineBackup      5282 non-null   category\n",
      " 10  DeviceProtection  5282 non-null   category\n",
      " 11  TechSupport       5282 non-null   category\n",
      " 12  StreamingTV       5282 non-null   category\n",
      " 13  StreamingMovies   5282 non-null   category\n",
      " 14  Internet          5282 non-null   category\n",
      " 15  MultipleLines     5282 non-null   category\n",
      " 16  Phone             5282 non-null   category\n",
      " 17  AVG_coop          5282 non-null   float64 \n",
      " 18  AVG_check         5282 non-null   float64 \n",
      "dtypes: category(17), float64(2)\n",
      "memory usage: 213.6 KB\n"
     ]
    }
   ],
   "source": [
    "for c in cat_features:\n",
    "    features_train[c] = features_train[c].astype('category')\n",
    "features_train.info()"
   ]
  },
  {
   "cell_type": "code",
   "execution_count": 68,
   "id": "b89bdc0c",
   "metadata": {},
   "outputs": [
    {
     "name": "stdout",
     "output_type": "stream",
     "text": [
      "Best training roc_auc: 0.888\n",
      "\n",
      "Saved LGBM grid search pipeline to file: best_estimator.pkl\n",
      "CPU times: user 913 ms, sys: 71.7 ms, total: 984 ms\n",
      "Wall time: 2.24 s\n"
     ]
    }
   ],
   "source": [
    "%%time\n",
    "learning_boost(\n",
    "    model_name = \"LGBM\",\n",
    "    empty_model= lgb.LGBMClassifier(random_state=random_state, class_weight = 'balanced'),\n",
    "    parametrs = [{'n_estimators': range (10,100,10), 'max_depth':(3,12),'learning_rate':(0.001,0.1)}],\n",
    "    features = features_train,\n",
    "    target = target_train\n",
    "    )"
   ]
  },
  {
   "cell_type": "code",
   "execution_count": 69,
   "id": "47c913da",
   "metadata": {},
   "outputs": [
    {
     "data": {
      "text/plain": [
       "['model_lgdb.pkl']"
      ]
     },
     "execution_count": 69,
     "metadata": {},
     "output_type": "execute_result"
    }
   ],
   "source": [
    "model_lgdb = joblib.load('best_estimator.pkl')\n",
    "joblib.dump(model_lgdb, 'model_lgdb.pkl', compress=1)"
   ]
  },
  {
   "cell_type": "markdown",
   "id": "198b2561",
   "metadata": {},
   "source": [
    "### Сравнение результатов с dummy-моделью и выбор модели\n",
    "\n",
    "Учитывая не слишком высокую эффективность на тренировочной выборке всех моделей, сравним их с базовой моделью, которая предскажет искомый класс на основании частоты этого класса в обучающей выборке."
   ]
  },
  {
   "cell_type": "code",
   "execution_count": 70,
   "id": "094a3ad5",
   "metadata": {},
   "outputs": [
    {
     "name": "stdout",
     "output_type": "stream",
     "text": [
      "AUC-ROC модели на тестовой выборке:0.5000\n"
     ]
    }
   ],
   "source": [
    "dummy_clf = DummyClassifier(strategy=\"prior\")\n",
    "dummy_clf.fit(features_train,target_train)\n",
    "probabilities_dummy_train = dummy_clf.predict_proba(features_train)\n",
    "probabilities_dummy_one_train = probabilities_dummy_train[:, 1]\n",
    "print(\"AUC-ROC модели на тестовой выборке:{:.4f}\".format(roc_auc_score(target_train, probabilities_dummy_one_train)))"
   ]
  },
  {
   "cell_type": "markdown",
   "id": "52f02489",
   "metadata": {},
   "source": [
    "Итак, наши модели дают лучшее предсказание, поэтому проверим лучшую на тестовой выборке. "
   ]
  },
  {
   "cell_type": "code",
   "execution_count": 71,
   "id": "4a09219b",
   "metadata": {},
   "outputs": [
    {
     "data": {
      "text/html": [
       "<div>\n",
       "<style scoped>\n",
       "    .dataframe tbody tr th:only-of-type {\n",
       "        vertical-align: middle;\n",
       "    }\n",
       "\n",
       "    .dataframe tbody tr th {\n",
       "        vertical-align: top;\n",
       "    }\n",
       "\n",
       "    .dataframe thead th {\n",
       "        text-align: right;\n",
       "    }\n",
       "</style>\n",
       "<table border=\"1\" class=\"dataframe\">\n",
       "  <thead>\n",
       "    <tr style=\"text-align: right;\">\n",
       "      <th></th>\n",
       "      <th>roc-auc</th>\n",
       "    </tr>\n",
       "  </thead>\n",
       "  <tbody>\n",
       "    <tr>\n",
       "      <th>Logistic_regression</th>\n",
       "      <td>0.843912</td>\n",
       "    </tr>\n",
       "    <tr>\n",
       "      <th>Random_forest</th>\n",
       "      <td>0.856578</td>\n",
       "    </tr>\n",
       "    <tr>\n",
       "      <th>CatBoost</th>\n",
       "      <td>0.883880</td>\n",
       "    </tr>\n",
       "    <tr>\n",
       "      <th>LGBM</th>\n",
       "      <td>0.888156</td>\n",
       "    </tr>\n",
       "  </tbody>\n",
       "</table>\n",
       "</div>"
      ],
      "text/plain": [
       "                      roc-auc\n",
       "Logistic_regression  0.843912\n",
       "Random_forest        0.856578\n",
       "CatBoost             0.883880\n",
       "LGBM                 0.888156"
      ]
     },
     "execution_count": 71,
     "metadata": {},
     "output_type": "execute_result"
    }
   ],
   "source": [
    "names_list = ['Logistic_regression', 'Random_forest', 'CatBoost', 'LGBM']\n",
    "values_list = values_list\n",
    "result_table = pd.DataFrame(data = values_list, index = names_list, columns = ['roc-auc'])\n",
    "result_table"
   ]
  },
  {
   "cell_type": "markdown",
   "id": "68a3ecf0",
   "metadata": {},
   "source": [
    "С небольшим отрывом лидирует LGBM, используем его на тестовой выборке, но перед этим проверим, какие же именно признаки для данной модели оказались решающими."
   ]
  },
  {
   "cell_type": "code",
   "execution_count": 72,
   "id": "9d895770",
   "metadata": {},
   "outputs": [
    {
     "data": {
      "text/plain": [
       "<AxesSubplot: title={'center': 'Feature importance'}, xlabel='Feature importance', ylabel='Features'>"
      ]
     },
     "execution_count": 72,
     "metadata": {},
     "output_type": "execute_result"
    },
    {
     "data": {
      "image/png": "[encoded data removed]",
      "text/plain": [
       "<Figure size 640x480 with 1 Axes>"
      ]
     },
     "metadata": {},
     "output_type": "display_data"
    }
   ],
   "source": [
    "model_lgdb = joblib.load('model_lgdb.pkl')\n",
    "lgb.plot_importance(model_lgdb)"
   ]
  },
  {
   "cell_type": "markdown",
   "id": "aa79b2c7",
   "metadata": {},
   "source": [
    "Как мы можем видеть из графика, так называемые \"персональные признаки\" не являются решающими для модели, как и наличие нескольких линий телефона и некоторые признаки, относящиеся к интернет-услугам (наша ручная аналитика также показывала, что распределение пользования этими услугами одинаково как для лояльных, так и для ушедших клиентов). Попробуем удалить данные признаки и заново обучить модель."
   ]
  },
  {
   "cell_type": "code",
   "execution_count": 73,
   "id": "a2c3f38f",
   "metadata": {},
   "outputs": [],
   "source": [
    "features_train_lgbm = features_train.copy()\n",
    "features_train_lgbm = features_train_lgbm.drop([\n",
    "    'Internet',\n",
    "    'Phone',\n",
    "    'DeviceProtection',\n",
    "    'StreamingMovies',\n",
    "    'MultipleLines',\n",
    "    'SeniorCitizen',\n",
    "    'Partner',\n",
    "    'PaymentMethod',\n",
    "    'OnlineSecurity',\n",
    "    'Dependents'], axis=1)"
   ]
  },
  {
   "cell_type": "code",
   "execution_count": 74,
   "id": "63c7e046",
   "metadata": {},
   "outputs": [
    {
     "name": "stdout",
     "output_type": "stream",
     "text": [
      "Best training roc_auc: 0.890\n",
      "\n",
      "Saved LGBM grid search pipeline to file: best_estimator.pkl\n",
      "CPU times: user 884 ms, sys: 107 ms, total: 990 ms\n",
      "Wall time: 1.22 s\n"
     ]
    }
   ],
   "source": [
    "%%time\n",
    "learning_boost(\n",
    "    model_name = \"LGBM\",\n",
    "    empty_model= lgb.LGBMClassifier(random_state=random_state, class_weight = 'balanced'),\n",
    "    parametrs = [{\n",
    "        'n_estimators': range (10,100,10),\n",
    "        'max_depth':(3,12),\n",
    "        'learning_rate':(0.001,0.1)}],\n",
    "    features = features_train_lgbm,\n",
    "    target = target_train\n",
    "    )"
   ]
  },
  {
   "cell_type": "code",
   "execution_count": 75,
   "id": "d5e005fe",
   "metadata": {},
   "outputs": [
    {
     "data": {
      "text/plain": [
       "['model_lgdb.pkl']"
      ]
     },
     "execution_count": 75,
     "metadata": {},
     "output_type": "execute_result"
    }
   ],
   "source": [
    "model_lgdb = joblib.load('best_estimator.pkl')\n",
    "joblib.dump(model_lgdb, 'model_lgdb.pkl', compress=1)"
   ]
  },
  {
   "cell_type": "markdown",
   "id": "9ce598ea",
   "metadata": {},
   "source": [
    "В данном случае нам удалось добиться небольшого улучшения качества модели. Попробуем аналогичным образом преобразовать тестовые признаки и посчитать итоговую метрику."
   ]
  },
  {
   "cell_type": "markdown",
   "id": "f9d6e5f3",
   "metadata": {},
   "source": [
    "## Валидация модели на тестовой выборке"
   ]
  },
  {
   "cell_type": "markdown",
   "id": "da55ade1",
   "metadata": {},
   "source": [
    "Итак, приступим к тестированию. Начнем с преобразования тестовых признаков в формат `category`. Затем обрежем тестовые данные аналогично тренировочному датасету."
   ]
  },
  {
   "cell_type": "code",
   "execution_count": 76,
   "id": "a47b3ba0",
   "metadata": {},
   "outputs": [
    {
     "name": "stdout",
     "output_type": "stream",
     "text": [
      "<class 'pandas.core.frame.DataFrame'>\n",
      "Int64Index: 1761 entries, 3736 to 4259\n",
      "Data columns (total 19 columns):\n",
      " #   Column            Non-Null Count  Dtype   \n",
      "---  ------            --------------  -----   \n",
      " 0   Type              1761 non-null   category\n",
      " 1   PaperlessBilling  1761 non-null   category\n",
      " 2   PaymentMethod     1761 non-null   category\n",
      " 3   gender            1761 non-null   category\n",
      " 4   SeniorCitizen     1761 non-null   category\n",
      " 5   Partner           1761 non-null   category\n",
      " 6   Dependents        1761 non-null   category\n",
      " 7   InternetService   1761 non-null   category\n",
      " 8   OnlineSecurity    1761 non-null   category\n",
      " 9   OnlineBackup      1761 non-null   category\n",
      " 10  DeviceProtection  1761 non-null   category\n",
      " 11  TechSupport       1761 non-null   category\n",
      " 12  StreamingTV       1761 non-null   category\n",
      " 13  StreamingMovies   1761 non-null   category\n",
      " 14  Internet          1761 non-null   category\n",
      " 15  MultipleLines     1761 non-null   category\n",
      " 16  Phone             1761 non-null   category\n",
      " 17  AVG_coop          1761 non-null   float64 \n",
      " 18  AVG_check         1761 non-null   float64 \n",
      "dtypes: category(17), float64(2)\n",
      "memory usage: 72.7 KB\n"
     ]
    }
   ],
   "source": [
    "for c in cat_features:\n",
    "    features_test[c] = features_test[c].astype('category')\n",
    "features_test.info()"
   ]
  },
  {
   "cell_type": "code",
   "execution_count": 77,
   "id": "bcbf0a91",
   "metadata": {},
   "outputs": [],
   "source": [
    "features_test_lgbm = features_test.copy()\n",
    "features_test_lgbm = features_test_lgbm.drop([\n",
    "    'Internet',\n",
    "    'Phone',\n",
    "    'DeviceProtection',\n",
    "    'StreamingMovies',\n",
    "    'MultipleLines',\n",
    "    'SeniorCitizen',\n",
    "    'Partner',\n",
    "    'PaymentMethod',\n",
    "    'OnlineSecurity',\n",
    "    'Dependents'], axis=1)"
   ]
  },
  {
   "cell_type": "code",
   "execution_count": 78,
   "id": "0bfa0d52",
   "metadata": {
    "scrolled": false
   },
   "outputs": [
    {
     "name": "stdout",
     "output_type": "stream",
     "text": [
      "AUC-ROC модели на тестовой выборке:0.9105\n"
     ]
    }
   ],
   "source": [
    "model_lgdb = joblib.load('model_lgdb.pkl')\n",
    "probabilities_test = model_lgdb.predict_proba(features_test_lgbm)\n",
    "probabilities_one_test = probabilities_test[:, 1]\n",
    "print(\"AUC-ROC модели на тестовой выборке:{:.4f}\".format(roc_auc_score(target_test, probabilities_one_test)))"
   ]
  },
  {
   "cell_type": "code",
   "execution_count": 79,
   "id": "b134fbd2",
   "metadata": {
    "scrolled": true
   },
   "outputs": [
    {
     "name": "stdout",
     "output_type": "stream",
     "text": [
      "<bound method LGBMModel.get_params of LGBMClassifier(class_weight='balanced', max_depth=12, n_estimators=90,\n",
      "               random_state=130223)>\n"
     ]
    }
   ],
   "source": [
    "print(model_lgdb.get_params)"
   ]
  },
  {
   "cell_type": "code",
   "execution_count": 80,
   "id": "4691926c",
   "metadata": {},
   "outputs": [
    {
     "data": {
      "image/png": "[encoded data removed]",
      "text/plain": [
       "<Figure size 640x480 with 2 Axes>"
      ]
     },
     "metadata": {},
     "output_type": "display_data"
    }
   ],
   "source": [
    "cm = confusion_matrix(target_test, model_lgdb.predict(features_test_lgbm))\n",
    "ConfusionMatrixDisplay(cm).plot()\n",
    "plt.show()"
   ]
  },
  {
   "cell_type": "code",
   "execution_count": 81,
   "id": "e2d72932",
   "metadata": {},
   "outputs": [
    {
     "data": {
      "text/plain": [
       "array([[1074,  220],\n",
       "       [  86,  381]])"
      ]
     },
     "execution_count": 81,
     "metadata": {},
     "output_type": "execute_result"
    }
   ],
   "source": [
    "cm"
   ]
  },
  {
   "cell_type": "code",
   "execution_count": 82,
   "id": "6f9a3956",
   "metadata": {},
   "outputs": [
    {
     "name": "stdout",
     "output_type": "stream",
     "text": [
      "              precision    recall  f1-score   support\n",
      "\n",
      "       Loyal       0.93      0.83      0.88      1294\n",
      "     Churned       0.63      0.82      0.71       467\n",
      "\n",
      "    accuracy                           0.83      1761\n",
      "   macro avg       0.78      0.82      0.79      1761\n",
      "weighted avg       0.85      0.83      0.83      1761\n",
      "\n"
     ]
    }
   ],
   "source": [
    "report = classification_report(target_test, model_lgdb.predict(features_test_lgbm),target_names=['Loyal', 'Churned'])\n",
    "print(report)"
   ]
  },
  {
   "cell_type": "code",
   "execution_count": 83,
   "id": "5fee6c3f",
   "metadata": {},
   "outputs": [
    {
     "data": {
      "image/png": "[encoded data removed]",
      "text/plain": [
       "<Figure size 640x480 with 1 Axes>"
      ]
     },
     "metadata": {},
     "output_type": "display_data"
    }
   ],
   "source": [
    "#создадим визуализацию roc-кривой\n",
    "target_test_g = target_test.copy()\n",
    "target_test_g = target_test_g.replace('No',0)\n",
    "target_test_g = target_test_g.replace('Yes',1)\n",
    "\n",
    "# график\n",
    "fpr, tpr, thresholds = roc_curve(target_test_g, probabilities_one_test)\n",
    "plt.plot(fpr, tpr, label='Модель LGBM')\n",
    "plt.xlim([0,1])\n",
    "plt.ylim([0,1])\n",
    "plt.xlabel(\"False Positive Rate\", fontsize=10)\n",
    "plt.ylabel(\"True Positive Rate\", fontsize=10)\n",
    "plt.title(\"ROC-кривая\", fontsize=14)\n",
    "\n",
    "# добавим для наглядности график случайной модели\n",
    "plt.plot([0, 1], [0, 1], linestyle='--', label='Случайная модель')\n",
    "plt.legend()\n",
    "plt.show()"
   ]
  },
  {
   "cell_type": "markdown",
   "id": "3bc266a8",
   "metadata": {},
   "source": [
    "Значение AUC-ROC в целом стремится к 1, его можно интерпретировать как 91% вероятность того, что случайно выбранный ушедший клиент будет верно проранжирован классификатором как ушедший по сравнению с сохраняющим лояльность клиентом. Accuracy полученной модели составило 83%, т.е. в 83% случаев общая классификация будет верной."
   ]
  },
  {
   "cell_type": "code",
   "execution_count": 84,
   "id": "43e7920f",
   "metadata": {},
   "outputs": [
    {
     "data": {
      "text/plain": [
       "Index(['Type', 'PaperlessBilling', 'gender', 'InternetService', 'OnlineBackup',\n",
       "       'TechSupport', 'StreamingTV', 'AVG_coop', 'AVG_check'],\n",
       "      dtype='object')"
      ]
     },
     "execution_count": 84,
     "metadata": {},
     "output_type": "execute_result"
    }
   ],
   "source": [
    "features_test_lgbm.columns"
   ]
  },
  {
   "cell_type": "markdown",
   "id": "16f0c166",
   "metadata": {},
   "source": [
    "## Потенциальный экономический эффект от внедрения модели\n",
    "\n",
    "\n",
    "Интерпретируем для бизнеса эффект от предсказаний нашей модели:"
   ]
  },
  {
   "cell_type": "code",
   "execution_count": 85,
   "id": "8b418443",
   "metadata": {},
   "outputs": [
    {
     "name": "stdout",
     "output_type": "stream",
     "text": [
      "Всего рассмотрено 1761 клиентов\n",
      "Из них ушедших 467 или 27%\n",
      "Примерные потери в связи с уходом указанных клиентов (по среднему чеку на клиента) 32288 долларов ежемесячно\n",
      "Моделью корректно предсказан уход 381 или 82% всех ушедших клиентов\n",
      "С учетом косвенных расходов на скидки для ошибочно предсказанных клиентов (из предположения о скидке в 10 процентов) общее сокращение убытков /потерь составило бы 21156 долларов или до 7467 в месяц\n",
      "Cокращение расходов составляет 66%\n"
     ]
    }
   ],
   "source": [
    "print('Всего рассмотрено %d клиентов' %(len(target_test)))\n",
    "print('Из них ушедших %d' %(len(target_test[target_test == 'Yes'])), \\\n",
    "    'или {0:.0%}'.format(len(target_test[target_test == 'Yes'])/len(target_test)))\n",
    "print('Примерные потери в связи с уходом указанных клиентов (по среднему чеку на клиента) %d долларов ежемесячно' %(\n",
    "    df_full['AVG_check'].median()*len(target_test[target_test == 'Yes']))\n",
    "     )\n",
    "print('Моделью корректно предсказан уход %d' %(cm[1,1]), \\\n",
    "    'или {0:.0%} всех ушедших клиентов'.format(cm[1,1]/len(target_test[target_test == 'Yes'])))\n",
    "print('С учетом косвенных расходов на скидки для ошибочно предсказанных клиентов (из предположения о скидке в 10 процентов)\\\n",
    " общее сокращение убытков /потерь составило бы %d долларов или до %d в месяц' %(\n",
    "    df_full['AVG_check'].median()*(len(target_test[target_test == 'Yes'])-cm[1,1]+cm[0,1]),\n",
    "    (df_full['AVG_check'].median()*cm[1,0]+df_full['AVG_check'].median()*0.1*cm[0,1])\n",
    ")\n",
    "     )\n",
    "print('Cокращение расходов составляет {0:.0%}'.format(\n",
    "(df_full['AVG_check'].median()*(len(target_test[target_test == 'Yes'])-cm[1,1]+cm[0,1]))\n",
    "/(df_full['AVG_check'].median()*len(target_test[target_test == 'Yes']))\n",
    ")\n",
    "     )"
   ]
  },
  {
   "cell_type": "markdown",
   "id": "6570015b",
   "metadata": {},
   "source": [
    "<b> Таким образом, исходя из допущений:\n",
    "1. для расчета потерь взята средняя стоимость месяца для абонента;\n",
    "2. размер скидки для удержания клиента взят в размере 10%\n",
    "\n",
    "<b> наша обученная модель позволяет бизнесу сократить потери c 32,3 тыс. долларов до 7,5 тыс. долларов (на 66%)."
   ]
  },
  {
   "cell_type": "markdown",
   "id": "07549623",
   "metadata": {},
   "source": [
    "## Выводы.\n",
    "\n",
    "Итак, мы достигли поставленной цели: **получили метрику roc-auc в 0.91** на тестовой выборке для определения потенциально уходящих клиентов, т.е. добились вероятности в 91% факта определения случайно выбранного ушедшего клиента как ушедшего. Совместно с accuracy в 83% это позволит предсказать потенциально уходящих клиентов провайдера и предложить им промо-код. \"Пропущенных\" моделью ушедших клиентов немного, около 5% (86 из 1761 на тесте), еще 12% (220 из 1761) проранжированы ошибочно как ушедшие. Последние могут \"зря\" получить промокод, даже если они не собирались уходить, однако в долгосрочной перспективе это может увеличить их лояльность (требует отдельного исследования после внедрения модели). **Общее потенциальное сокращение убытков бизнеса составялет 66% в результате применения данной модели.**\n",
    "\n",
    "Ручной анализ признаков до загрузки в модель показал, что часть параметров одинаково характерна как для лояльных клиентов, так и для ушедших (например, пользование стриминговыми сервисами ТВ и кино), впоследствии большинство выводов по таким признакам подтвердились после первичного обучения модели и выгрузки из нее feature_impotance. Удаление таких признаков (\"шума\" для модели) позволило повысить качество предсказаний. Дополнительно были сгенерированы признаки времени сотрудничества и среднемесячного чека.\n",
    "\n",
    "## Использованные параметры.\n",
    "\n",
    "Выборка была разделена в пропорции 75%/25%, random_state зафиксирован на уровне 130223.\\\n",
    "Были проверены модели Logistic_regression, RandomForest, CatBoost, LGBM.\n",
    "\n",
    "На тестовой выборке была использована модель LGBM со следующими гиперпараметрами:\n",
    " - class_weight='balanced',\n",
    " - max_depth=12,\n",
    " - n_estimators=90.\n",
    " \n",
    "  \n",
    " Небольшое количество деревьев обусловлено небольшим датасетом, при увеличении количества деревьев качество модели падало.\n",
    " \n",
    "При подготовке были удалены \"шумные\" признаки, сохранены следующие:\n",
    "- 'Type',\n",
    "- 'PaperlessBilling',\n",
    "- 'gender',\n",
    "- 'InternetService',\n",
    "- 'OnlineBackup',\n",
    "- 'TechSupport',\n",
    "- 'StreamingTV',\n",
    "- 'AVG_coop',\n",
    "- 'AVG_check'\n",
    "\n",
    "Итогом стал результат на тренировочной выборке roc-auc 0.888, на тестовой результат улучшен до 0.91."
   ]
  },
  {
   "cell_type": "code",
   "execution_count": null,
   "id": "cedb72b0",
   "metadata": {},
   "outputs": [],
   "source": []
  }
 ],
 "metadata": {
  "ExecuteTimeLog": [
   {
    "duration": 1957,
    "start_time": "2023-02-14T04:48:28.574Z"
   },
   {
    "duration": 363,
    "start_time": "2023-02-14T04:48:30.533Z"
   },
   {
    "duration": 13,
    "start_time": "2023-02-14T04:48:30.898Z"
   },
   {
    "duration": 50,
    "start_time": "2023-02-14T04:48:30.913Z"
   },
   {
    "duration": 47,
    "start_time": "2023-02-14T04:48:30.964Z"
   },
   {
    "duration": 36,
    "start_time": "2023-02-14T04:48:31.013Z"
   },
   {
    "duration": 159,
    "start_time": "2023-02-14T04:48:31.050Z"
   },
   {
    "duration": 182,
    "start_time": "2023-02-14T04:48:31.210Z"
   },
   {
    "duration": 11,
    "start_time": "2023-02-14T04:48:31.393Z"
   },
   {
    "duration": 14,
    "start_time": "2023-02-14T04:48:31.407Z"
   },
   {
    "duration": 27,
    "start_time": "2023-02-14T04:48:31.422Z"
   },
   {
    "duration": 9,
    "start_time": "2023-02-14T04:48:31.451Z"
   },
   {
    "duration": 12,
    "start_time": "2023-02-14T04:48:31.462Z"
   },
   {
    "duration": 6,
    "start_time": "2023-02-14T04:48:31.476Z"
   },
   {
    "duration": 7,
    "start_time": "2023-02-14T04:48:31.484Z"
   },
   {
    "duration": 11,
    "start_time": "2023-02-14T04:48:31.493Z"
   },
   {
    "duration": 47,
    "start_time": "2023-02-14T04:48:31.506Z"
   },
   {
    "duration": 3228,
    "start_time": "2023-02-21T03:28:35.098Z"
   },
   {
    "duration": 6970,
    "start_time": "2023-02-21T03:28:49.049Z"
   },
   {
    "duration": 33,
    "start_time": "2023-02-21T03:28:56.022Z"
   },
   {
    "duration": 17,
    "start_time": "2023-02-21T03:29:29.009Z"
   },
   {
    "duration": 16,
    "start_time": "2023-02-21T03:29:45.552Z"
   },
   {
    "duration": 1411,
    "start_time": "2023-02-21T03:30:09.136Z"
   },
   {
    "duration": 1526,
    "start_time": "2023-02-21T03:30:16.869Z"
   },
   {
    "duration": 366,
    "start_time": "2023-02-21T03:30:19.248Z"
   },
   {
    "duration": 19,
    "start_time": "2023-02-21T03:30:19.687Z"
   },
   {
    "duration": 19,
    "start_time": "2023-02-21T03:30:20.295Z"
   },
   {
    "duration": 7,
    "start_time": "2023-02-21T03:30:20.647Z"
   },
   {
    "duration": 23,
    "start_time": "2023-02-21T03:30:20.808Z"
   },
   {
    "duration": 163,
    "start_time": "2023-02-21T03:30:20.921Z"
   },
   {
    "duration": 202,
    "start_time": "2023-02-21T03:30:21.102Z"
   },
   {
    "duration": 12,
    "start_time": "2023-02-21T03:30:21.306Z"
   },
   {
    "duration": 14,
    "start_time": "2023-02-21T03:30:21.423Z"
   },
   {
    "duration": 7,
    "start_time": "2023-02-21T03:30:21.583Z"
   },
   {
    "duration": 12,
    "start_time": "2023-02-21T03:30:21.922Z"
   },
   {
    "duration": 17,
    "start_time": "2023-02-21T03:30:22.095Z"
   },
   {
    "duration": 9,
    "start_time": "2023-02-21T03:30:22.271Z"
   },
   {
    "duration": 8,
    "start_time": "2023-02-21T03:30:22.423Z"
   },
   {
    "duration": 14,
    "start_time": "2023-02-21T03:30:22.585Z"
   },
   {
    "duration": 7,
    "start_time": "2023-02-21T03:30:22.720Z"
   },
   {
    "duration": 3,
    "start_time": "2023-02-21T03:30:23.375Z"
   },
   {
    "duration": 12,
    "start_time": "2023-02-21T03:30:23.759Z"
   },
   {
    "duration": 5,
    "start_time": "2023-02-21T03:30:24.112Z"
   },
   {
    "duration": 40,
    "start_time": "2023-02-21T03:30:24.271Z"
   },
   {
    "duration": 19,
    "start_time": "2023-02-21T03:30:24.688Z"
   },
   {
    "duration": 15,
    "start_time": "2023-02-21T03:30:25.618Z"
   },
   {
    "duration": 7,
    "start_time": "2023-02-21T03:30:26.896Z"
   },
   {
    "duration": 6,
    "start_time": "2023-02-21T03:30:33.191Z"
   },
   {
    "duration": 7,
    "start_time": "2023-02-21T03:30:44.464Z"
   },
   {
    "duration": 51,
    "start_time": "2023-02-21T03:32:23.334Z"
   },
   {
    "duration": 1403,
    "start_time": "2023-02-21T03:36:01.884Z"
   },
   {
    "duration": 103,
    "start_time": "2023-02-21T03:36:03.289Z"
   },
   {
    "duration": 16,
    "start_time": "2023-02-21T03:36:03.393Z"
   },
   {
    "duration": 14,
    "start_time": "2023-02-21T03:36:03.411Z"
   },
   {
    "duration": 19,
    "start_time": "2023-02-21T03:36:03.429Z"
   },
   {
    "duration": 42,
    "start_time": "2023-02-21T03:36:03.450Z"
   },
   {
    "duration": 186,
    "start_time": "2023-02-21T03:36:03.494Z"
   },
   {
    "duration": 224,
    "start_time": "2023-02-21T03:36:03.682Z"
   },
   {
    "duration": 15,
    "start_time": "2023-02-21T03:36:03.909Z"
   },
   {
    "duration": 26,
    "start_time": "2023-02-21T03:36:03.927Z"
   },
   {
    "duration": 14,
    "start_time": "2023-02-21T03:36:03.955Z"
   },
   {
    "duration": 11,
    "start_time": "2023-02-21T03:36:04.091Z"
   },
   {
    "duration": 16,
    "start_time": "2023-02-21T03:36:04.235Z"
   },
   {
    "duration": 6,
    "start_time": "2023-02-21T03:36:04.411Z"
   },
   {
    "duration": 8,
    "start_time": "2023-02-21T03:36:04.611Z"
   },
   {
    "duration": 16,
    "start_time": "2023-02-21T03:36:04.739Z"
   },
   {
    "duration": 8,
    "start_time": "2023-02-21T03:36:04.908Z"
   },
   {
    "duration": 3,
    "start_time": "2023-02-21T03:36:05.587Z"
   },
   {
    "duration": 12,
    "start_time": "2023-02-21T03:36:05.763Z"
   },
   {
    "duration": 8,
    "start_time": "2023-02-21T03:36:06.075Z"
   },
   {
    "duration": 49,
    "start_time": "2023-02-21T03:36:06.227Z"
   },
   {
    "duration": 18,
    "start_time": "2023-02-21T03:36:06.364Z"
   },
   {
    "duration": 22,
    "start_time": "2023-02-21T03:36:06.708Z"
   },
   {
    "duration": 10,
    "start_time": "2023-02-21T03:36:07.179Z"
   },
   {
    "duration": 15,
    "start_time": "2023-02-21T03:36:07.475Z"
   },
   {
    "duration": 55,
    "start_time": "2023-02-21T03:36:07.667Z"
   },
   {
    "duration": 8,
    "start_time": "2023-02-21T03:36:07.980Z"
   },
   {
    "duration": 12,
    "start_time": "2023-02-21T03:36:08.139Z"
   },
   {
    "duration": 6,
    "start_time": "2023-02-21T03:36:08.491Z"
   },
   {
    "duration": 9,
    "start_time": "2023-02-21T03:36:08.667Z"
   },
   {
    "duration": 14,
    "start_time": "2023-02-21T03:36:08.867Z"
   },
   {
    "duration": 17,
    "start_time": "2023-02-21T03:36:09.371Z"
   },
   {
    "duration": 21,
    "start_time": "2023-02-21T03:36:10.139Z"
   },
   {
    "duration": 6,
    "start_time": "2023-02-21T03:36:11.771Z"
   },
   {
    "duration": 15,
    "start_time": "2023-02-21T03:36:12.275Z"
   },
   {
    "duration": 25,
    "start_time": "2023-02-21T03:36:12.588Z"
   },
   {
    "duration": 6,
    "start_time": "2023-02-21T03:36:12.906Z"
   },
   {
    "duration": 31,
    "start_time": "2023-02-21T03:36:13.075Z"
   },
   {
    "duration": 18,
    "start_time": "2023-02-21T03:36:13.491Z"
   },
   {
    "duration": 217,
    "start_time": "2023-02-21T03:36:14.092Z"
   },
   {
    "duration": 274,
    "start_time": "2023-02-21T03:36:14.435Z"
   },
   {
    "duration": 9,
    "start_time": "2023-02-21T03:36:14.835Z"
   },
   {
    "duration": 271,
    "start_time": "2023-02-21T03:36:15.603Z"
   },
   {
    "duration": 4,
    "start_time": "2023-02-21T03:36:15.947Z"
   },
   {
    "duration": 890,
    "start_time": "2023-02-21T03:36:16.107Z"
   },
   {
    "duration": 781,
    "start_time": "2023-02-21T03:36:16.999Z"
   },
   {
    "duration": 524,
    "start_time": "2023-02-21T03:36:17.782Z"
   },
   {
    "duration": 1015,
    "start_time": "2023-02-21T03:36:18.309Z"
   },
   {
    "duration": 700,
    "start_time": "2023-02-21T03:36:19.326Z"
   },
   {
    "duration": 647,
    "start_time": "2023-02-21T03:36:20.028Z"
   },
   {
    "duration": 21078,
    "start_time": "2023-02-21T03:36:20.678Z"
   },
   {
    "duration": 11,
    "start_time": "2023-02-21T03:36:41.757Z"
   },
   {
    "duration": 16,
    "start_time": "2023-02-21T03:36:41.770Z"
   },
   {
    "duration": 6,
    "start_time": "2023-02-21T03:36:41.788Z"
   },
   {
    "duration": 10,
    "start_time": "2023-02-21T03:36:41.796Z"
   },
   {
    "duration": 8,
    "start_time": "2023-02-21T03:36:41.809Z"
   },
   {
    "duration": 193,
    "start_time": "2023-02-21T03:36:41.820Z"
   },
   {
    "duration": 3,
    "start_time": "2023-02-21T03:36:42.015Z"
   },
   {
    "duration": 6,
    "start_time": "2023-02-21T03:50:30.273Z"
   },
   {
    "duration": 2988,
    "start_time": "2023-02-21T15:09:56.883Z"
   },
   {
    "duration": 0,
    "start_time": "2023-02-21T15:09:59.877Z"
   },
   {
    "duration": 0,
    "start_time": "2023-02-21T15:09:59.878Z"
   },
   {
    "duration": 0,
    "start_time": "2023-02-21T15:09:59.879Z"
   },
   {
    "duration": 0,
    "start_time": "2023-02-21T15:09:59.880Z"
   },
   {
    "duration": 0,
    "start_time": "2023-02-21T15:09:59.881Z"
   },
   {
    "duration": 0,
    "start_time": "2023-02-21T15:09:59.882Z"
   },
   {
    "duration": 0,
    "start_time": "2023-02-21T15:09:59.884Z"
   },
   {
    "duration": 0,
    "start_time": "2023-02-21T15:09:59.885Z"
   },
   {
    "duration": 0,
    "start_time": "2023-02-21T15:09:59.886Z"
   },
   {
    "duration": 0,
    "start_time": "2023-02-21T15:09:59.887Z"
   },
   {
    "duration": 0,
    "start_time": "2023-02-21T15:09:59.889Z"
   },
   {
    "duration": 0,
    "start_time": "2023-02-21T15:09:59.890Z"
   },
   {
    "duration": 0,
    "start_time": "2023-02-21T15:09:59.891Z"
   },
   {
    "duration": 0,
    "start_time": "2023-02-21T15:09:59.892Z"
   },
   {
    "duration": 0,
    "start_time": "2023-02-21T15:09:59.893Z"
   },
   {
    "duration": 0,
    "start_time": "2023-02-21T15:09:59.894Z"
   },
   {
    "duration": 0,
    "start_time": "2023-02-21T15:09:59.896Z"
   },
   {
    "duration": 0,
    "start_time": "2023-02-21T15:09:59.897Z"
   },
   {
    "duration": 0,
    "start_time": "2023-02-21T15:09:59.898Z"
   },
   {
    "duration": 0,
    "start_time": "2023-02-21T15:09:59.899Z"
   },
   {
    "duration": 0,
    "start_time": "2023-02-21T15:09:59.940Z"
   },
   {
    "duration": 0,
    "start_time": "2023-02-21T15:09:59.941Z"
   },
   {
    "duration": 0,
    "start_time": "2023-02-21T15:09:59.942Z"
   },
   {
    "duration": 0,
    "start_time": "2023-02-21T15:09:59.944Z"
   },
   {
    "duration": 0,
    "start_time": "2023-02-21T15:09:59.945Z"
   },
   {
    "duration": 0,
    "start_time": "2023-02-21T15:09:59.946Z"
   },
   {
    "duration": 0,
    "start_time": "2023-02-21T15:09:59.947Z"
   },
   {
    "duration": 0,
    "start_time": "2023-02-21T15:09:59.949Z"
   },
   {
    "duration": 0,
    "start_time": "2023-02-21T15:09:59.950Z"
   },
   {
    "duration": 0,
    "start_time": "2023-02-21T15:09:59.952Z"
   },
   {
    "duration": 0,
    "start_time": "2023-02-21T15:09:59.953Z"
   },
   {
    "duration": 1,
    "start_time": "2023-02-21T15:09:59.954Z"
   },
   {
    "duration": 0,
    "start_time": "2023-02-21T15:09:59.956Z"
   },
   {
    "duration": 0,
    "start_time": "2023-02-21T15:09:59.957Z"
   },
   {
    "duration": 0,
    "start_time": "2023-02-21T15:09:59.958Z"
   },
   {
    "duration": 0,
    "start_time": "2023-02-21T15:09:59.959Z"
   },
   {
    "duration": 0,
    "start_time": "2023-02-21T15:09:59.960Z"
   },
   {
    "duration": 0,
    "start_time": "2023-02-21T15:09:59.962Z"
   },
   {
    "duration": 0,
    "start_time": "2023-02-21T15:09:59.963Z"
   },
   {
    "duration": 0,
    "start_time": "2023-02-21T15:09:59.964Z"
   },
   {
    "duration": 0,
    "start_time": "2023-02-21T15:09:59.965Z"
   },
   {
    "duration": 0,
    "start_time": "2023-02-21T15:09:59.967Z"
   },
   {
    "duration": 0,
    "start_time": "2023-02-21T15:09:59.968Z"
   },
   {
    "duration": 0,
    "start_time": "2023-02-21T15:09:59.969Z"
   },
   {
    "duration": 0,
    "start_time": "2023-02-21T15:09:59.971Z"
   },
   {
    "duration": 0,
    "start_time": "2023-02-21T15:09:59.972Z"
   },
   {
    "duration": 0,
    "start_time": "2023-02-21T15:09:59.973Z"
   },
   {
    "duration": 0,
    "start_time": "2023-02-21T15:09:59.974Z"
   },
   {
    "duration": 0,
    "start_time": "2023-02-21T15:09:59.975Z"
   },
   {
    "duration": 0,
    "start_time": "2023-02-21T15:09:59.976Z"
   },
   {
    "duration": 0,
    "start_time": "2023-02-21T15:10:00.038Z"
   },
   {
    "duration": 0,
    "start_time": "2023-02-21T15:10:00.040Z"
   },
   {
    "duration": 0,
    "start_time": "2023-02-21T15:10:00.041Z"
   },
   {
    "duration": 0,
    "start_time": "2023-02-21T15:10:00.043Z"
   },
   {
    "duration": 0,
    "start_time": "2023-02-21T15:10:00.044Z"
   },
   {
    "duration": 0,
    "start_time": "2023-02-21T15:10:00.045Z"
   },
   {
    "duration": 0,
    "start_time": "2023-02-21T15:10:00.047Z"
   },
   {
    "duration": 0,
    "start_time": "2023-02-21T15:10:00.048Z"
   },
   {
    "duration": 1,
    "start_time": "2023-02-21T15:10:00.049Z"
   },
   {
    "duration": 0,
    "start_time": "2023-02-21T15:10:00.051Z"
   },
   {
    "duration": 0,
    "start_time": "2023-02-21T15:10:00.052Z"
   },
   {
    "duration": 0,
    "start_time": "2023-02-21T15:10:00.054Z"
   },
   {
    "duration": 0,
    "start_time": "2023-02-21T15:10:00.055Z"
   },
   {
    "duration": 0,
    "start_time": "2023-02-21T15:10:00.056Z"
   },
   {
    "duration": 0,
    "start_time": "2023-02-21T15:10:00.057Z"
   },
   {
    "duration": 0,
    "start_time": "2023-02-21T15:10:00.059Z"
   },
   {
    "duration": 0,
    "start_time": "2023-02-21T15:10:00.060Z"
   },
   {
    "duration": 0,
    "start_time": "2023-02-21T15:10:00.062Z"
   },
   {
    "duration": 0,
    "start_time": "2023-02-21T15:10:00.063Z"
   },
   {
    "duration": 0,
    "start_time": "2023-02-21T15:10:00.064Z"
   },
   {
    "duration": 0,
    "start_time": "2023-02-21T15:10:00.065Z"
   },
   {
    "duration": 0,
    "start_time": "2023-02-21T15:10:00.067Z"
   },
   {
    "duration": 0,
    "start_time": "2023-02-21T15:10:00.069Z"
   },
   {
    "duration": 0,
    "start_time": "2023-02-21T15:10:00.070Z"
   },
   {
    "duration": 0,
    "start_time": "2023-02-21T15:10:00.071Z"
   },
   {
    "duration": 0,
    "start_time": "2023-02-21T15:10:00.073Z"
   },
   {
    "duration": 0,
    "start_time": "2023-02-21T15:10:00.074Z"
   },
   {
    "duration": 0,
    "start_time": "2023-02-21T15:10:00.139Z"
   },
   {
    "duration": 9,
    "start_time": "2023-02-21T15:11:01.860Z"
   },
   {
    "duration": 10384,
    "start_time": "2023-02-21T15:11:10.919Z"
   },
   {
    "duration": 28,
    "start_time": "2023-02-21T15:11:42.104Z"
   },
   {
    "duration": 3012,
    "start_time": "2023-02-21T15:12:49.968Z"
   },
   {
    "duration": 1396,
    "start_time": "2023-02-21T15:12:54.990Z"
   },
   {
    "duration": 373,
    "start_time": "2023-02-21T15:13:08.309Z"
   },
   {
    "duration": 15,
    "start_time": "2023-02-21T15:13:08.684Z"
   },
   {
    "duration": 14,
    "start_time": "2023-02-21T15:13:08.701Z"
   },
   {
    "duration": 7,
    "start_time": "2023-02-21T15:13:08.717Z"
   },
   {
    "duration": 18,
    "start_time": "2023-02-21T15:13:08.727Z"
   },
   {
    "duration": 169,
    "start_time": "2023-02-21T15:13:08.747Z"
   },
   {
    "duration": 200,
    "start_time": "2023-02-21T15:13:08.918Z"
   },
   {
    "duration": 18,
    "start_time": "2023-02-21T15:13:09.120Z"
   },
   {
    "duration": 12,
    "start_time": "2023-02-21T15:13:09.140Z"
   },
   {
    "duration": 8,
    "start_time": "2023-02-21T15:13:09.154Z"
   },
   {
    "duration": 15,
    "start_time": "2023-02-21T15:13:09.163Z"
   },
   {
    "duration": 15,
    "start_time": "2023-02-21T15:13:09.180Z"
   },
   {
    "duration": 15,
    "start_time": "2023-02-21T15:13:09.197Z"
   },
   {
    "duration": 27,
    "start_time": "2023-02-21T15:13:09.215Z"
   },
   {
    "duration": 13,
    "start_time": "2023-02-21T15:13:09.244Z"
   },
   {
    "duration": 10,
    "start_time": "2023-02-21T15:13:09.258Z"
   },
   {
    "duration": 6,
    "start_time": "2023-02-21T15:13:09.270Z"
   },
   {
    "duration": 14,
    "start_time": "2023-02-21T15:13:09.277Z"
   },
   {
    "duration": 6,
    "start_time": "2023-02-21T15:13:09.292Z"
   },
   {
    "duration": 56,
    "start_time": "2023-02-21T15:13:09.300Z"
   },
   {
    "duration": 17,
    "start_time": "2023-02-21T15:13:09.358Z"
   },
   {
    "duration": 15,
    "start_time": "2023-02-21T15:13:09.377Z"
   },
   {
    "duration": 8,
    "start_time": "2023-02-21T15:13:09.393Z"
   },
   {
    "duration": 35,
    "start_time": "2023-02-21T15:13:09.403Z"
   },
   {
    "duration": 5,
    "start_time": "2023-02-21T15:13:09.440Z"
   },
   {
    "duration": 12,
    "start_time": "2023-02-21T15:13:09.447Z"
   },
   {
    "duration": 27,
    "start_time": "2023-02-21T15:13:09.461Z"
   },
   {
    "duration": 12,
    "start_time": "2023-02-21T15:13:09.489Z"
   },
   {
    "duration": 20,
    "start_time": "2023-02-21T15:13:09.502Z"
   },
   {
    "duration": 27,
    "start_time": "2023-02-21T15:13:09.524Z"
   },
   {
    "duration": 18,
    "start_time": "2023-02-21T15:13:09.553Z"
   },
   {
    "duration": 6,
    "start_time": "2023-02-21T15:13:09.573Z"
   },
   {
    "duration": 16,
    "start_time": "2023-02-21T15:13:09.581Z"
   },
   {
    "duration": 60,
    "start_time": "2023-02-21T15:13:09.599Z"
   },
   {
    "duration": 4,
    "start_time": "2023-02-21T15:13:09.661Z"
   },
   {
    "duration": 29,
    "start_time": "2023-02-21T15:13:09.667Z"
   },
   {
    "duration": 23,
    "start_time": "2023-02-21T15:13:09.697Z"
   },
   {
    "duration": 194,
    "start_time": "2023-02-21T15:13:09.721Z"
   },
   {
    "duration": 293,
    "start_time": "2023-02-21T15:13:09.917Z"
   },
   {
    "duration": 7,
    "start_time": "2023-02-21T15:13:10.212Z"
   },
   {
    "duration": 243,
    "start_time": "2023-02-21T15:13:10.240Z"
   },
   {
    "duration": 4,
    "start_time": "2023-02-21T15:13:10.485Z"
   },
   {
    "duration": 754,
    "start_time": "2023-02-21T15:13:10.490Z"
   },
   {
    "duration": 563,
    "start_time": "2023-02-21T15:13:11.246Z"
   },
   {
    "duration": 358,
    "start_time": "2023-02-21T15:13:11.811Z"
   },
   {
    "duration": 1035,
    "start_time": "2023-02-21T15:13:12.171Z"
   },
   {
    "duration": 663,
    "start_time": "2023-02-21T15:13:13.208Z"
   },
   {
    "duration": 486,
    "start_time": "2023-02-21T15:13:13.873Z"
   },
   {
    "duration": 21940,
    "start_time": "2023-02-21T15:13:14.361Z"
   },
   {
    "duration": 12,
    "start_time": "2023-02-21T15:13:36.303Z"
   },
   {
    "duration": 3,
    "start_time": "2023-02-21T15:13:36.317Z"
   },
   {
    "duration": 31,
    "start_time": "2023-02-21T15:13:36.321Z"
   },
   {
    "duration": 15,
    "start_time": "2023-02-21T15:13:36.354Z"
   },
   {
    "duration": 14,
    "start_time": "2023-02-21T15:13:36.372Z"
   },
   {
    "duration": 13,
    "start_time": "2023-02-21T15:13:36.389Z"
   },
   {
    "duration": 5,
    "start_time": "2023-02-21T15:13:36.405Z"
   },
   {
    "duration": 21,
    "start_time": "2023-02-21T15:13:36.412Z"
   },
   {
    "duration": 21,
    "start_time": "2023-02-21T15:13:36.435Z"
   },
   {
    "duration": 6105,
    "start_time": "2023-02-21T15:13:36.458Z"
   },
   {
    "duration": 232,
    "start_time": "2023-02-21T15:13:42.565Z"
   },
   {
    "duration": 2390,
    "start_time": "2023-02-22T15:29:59.326Z"
   },
   {
    "duration": 10798,
    "start_time": "2023-02-22T15:30:15.440Z"
   },
   {
    "duration": 32,
    "start_time": "2023-02-22T15:31:57.288Z"
   },
   {
    "duration": 3,
    "start_time": "2023-02-22T15:32:26.454Z"
   },
   {
    "duration": 16,
    "start_time": "2023-02-22T15:32:29.091Z"
   },
   {
    "duration": 38,
    "start_time": "2023-02-22T15:32:41.184Z"
   },
   {
    "duration": 15,
    "start_time": "2023-02-22T15:33:33.669Z"
   },
   {
    "duration": 16,
    "start_time": "2023-02-22T15:34:05.103Z"
   }
  ],
  "kernelspec": {
   "display_name": "Python 3 (ipykernel)",
   "language": "python",
   "name": "python3"
  },
  "language_info": {
   "codemirror_mode": {
    "name": "ipython",
    "version": 3
   },
   "file_extension": ".py",
   "mimetype": "text/x-python",
   "name": "python",
   "nbconvert_exporter": "python",
   "pygments_lexer": "ipython3",
   "version": "3.9.12"
  },
  "toc": {
   "base_numbering": 1,
   "nav_menu": {},
   "number_sections": true,
   "sideBar": true,
   "skip_h1_title": true,
   "title_cell": "Table of Contents",
   "title_sidebar": "Contents",
   "toc_cell": true,
   "toc_position": {},
   "toc_section_display": true,
   "toc_window_display": false
  }
 },
 "nbformat": 4,
 "nbformat_minor": 5
}
